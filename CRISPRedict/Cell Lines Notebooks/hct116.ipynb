{
 "cells": [
  {
   "cell_type": "markdown",
   "id": "88639f1c",
   "metadata": {},
   "source": [
    "# Importing Libraries "
   ]
  },
  {
   "cell_type": "code",
   "execution_count": null,
   "id": "c9a939d8",
   "metadata": {},
   "outputs": [
    {
     "name": "stderr",
     "output_type": "stream",
     "text": [
      "C:\\Users\\LENOVO\\AppData\\Roaming\\Python\\Python311\\site-packages\\tqdm\\auto.py:21: TqdmWarning: IProgress not found. Please update jupyter and ipywidgets. See https://ipywidgets.readthedocs.io/en/stable/user_install.html\n",
      "  from .autonotebook import tqdm as notebook_tqdm\n"
     ]
    }
   ],
   "source": [
    "import pandas as pd\n",
    "import numpy as np\n",
    "import matplotlib.pyplot as plt\n",
    "import seaborn as sns\n",
    "import random\n",
    "import tensorflow as tf\n",
    "from sklearn.preprocessing import MinMaxScaler, OneHotEncoder\n",
    "from sklearn.model_selection import train_test_split\n",
    "from sklearn.metrics import mean_squared_error, mean_absolute_error, r2_score\n",
    "from scipy.stats import spearmanr\n",
    "from sklearn.feature_extraction.text import CountVectorizer\n",
    "from tensorflow.keras.models import Model\n",
    "from tensorflow.keras.layers import (Input, Dense, Dropout, concatenate, BatchNormalization, MultiHeadAttention, LayerNormalization, LeakyReLU, Flatten,\n",
    "                                      Embedding, Lambda, Add,  Input, Conv1D, MaxPooling1D, GlobalMaxPooling1D, Bidirectional, LSTM)\n",
    "from tensorflow.keras.optimizers import Adam\n",
    "import json\n",
    "import os\n",
    "from keras.saving import register_keras_serializable\n",
    "import joblib"
   ]
  },
  {
   "cell_type": "markdown",
   "id": "3eed8ccf",
   "metadata": {},
   "source": [
    "# Data Loading and Exploration"
   ]
  },
  {
   "cell_type": "code",
   "execution_count": 2,
   "id": "b554a9a1",
   "metadata": {},
   "outputs": [],
   "source": [
    "excel_path = r'c:/Users/LENOVO/OneDrive/Desktop/capstone project/13059_2018_1459_MOESM5_ESM.xlsx'\n",
    "xls = pd.ExcelFile(excel_path)\n",
    "sheets = xls.sheet_names\n",
    "dfs = {sheet: xls.parse(sheet) for sheet in sheets}\n",
    "\n",
    "hct116_df=dfs['hct116']\n",
    "hek293t_df=dfs['hek293t']\n",
    "hela_df=dfs['hela']\n",
    "hl60_df=dfs['hl60']"
   ]
  },
  {
   "cell_type": "code",
   "execution_count": 3,
   "id": "fda4475e",
   "metadata": {},
   "outputs": [
    {
     "name": "stdout",
     "output_type": "stream",
     "text": [
      "HCT116 shape: (4239, 6)\n",
      "HEK293T shape: (2333, 6)\n",
      "HELA shape: (8101, 6)\n",
      "HL60 shape: (2076, 6)\n"
     ]
    }
   ],
   "source": [
    "print(f'HCT116 shape: {hct116_df.shape}')\n",
    "print(f'HEK293T shape: {hek293t_df.shape}')\n",
    "print(f'HELA shape: {hela_df.shape}')\n",
    "print(f'HL60 shape: {hl60_df.shape}')"
   ]
  },
  {
   "cell_type": "code",
   "execution_count": 4,
   "id": "407f34cd",
   "metadata": {},
   "outputs": [
    {
     "data": {
      "image/png": "[encoded data removed]",
      "text/plain": [
       "<Figure size 640x480 with 1 Axes>"
      ]
     },
     "metadata": {},
     "output_type": "display_data"
    }
   ],
   "source": [
    "combined_df = pd.concat([\n",
    "    hct116_df.assign(CellLine='HCT116'),\n",
    "    hek293t_df.assign(CellLine='HEK293T'),\n",
    "    hela_df.assign(CellLine='HeLa'),\n",
    "    hl60_df.assign(CellLine='HL60')\n",
    "])\n",
    "\n",
    "sns.boxplot(data=combined_df, x='CellLine', y='Normalized efficacy')\n",
    "plt.title('Normalized Efficacy Distribution per Cell Line')\n",
    "plt.ylabel('Normalized Efficacy')\n",
    "plt.xlabel('Cell Line')\n",
    "plt.show()"
   ]
  },
  {
   "cell_type": "code",
   "execution_count": 5,
   "id": "59ccfed8",
   "metadata": {},
   "outputs": [
    {
     "data": {
      "text/plain": [
       "\"\\nhct116_df.to_csv('hct116.csv', index=False)\\nhek293t_df.to_csv('hek293t.csv', index=False)\\nhela_df.to_csv('hela_df.csv', index=False)\\nhl60_df.to_csv('hl60_df.csv', index=False)\\n\""
      ]
     },
     "execution_count": 5,
     "metadata": {},
     "output_type": "execute_result"
    }
   ],
   "source": [
    "'''\n",
    "hct116_df.to_csv('hct116.csv', index=False)\n",
    "hek293t_df.to_csv('hek293t.csv', index=False)\n",
    "hela_df.to_csv('hela_df.csv', index=False)\n",
    "hl60_df.to_csv('hl60_df.csv', index=False)\n",
    "'''"
   ]
  },
  {
   "cell_type": "code",
   "execution_count": 6,
   "id": "98ec2c4d",
   "metadata": {},
   "outputs": [],
   "source": [
    "df=hct116_df.copy()"
   ]
  },
  {
   "cell_type": "code",
   "execution_count": 7,
   "id": "1849690e",
   "metadata": {},
   "outputs": [
    {
     "name": "stdout",
     "output_type": "stream",
     "text": [
      "Max: 0.946\n",
      "Min: 0.0\n",
      "25th percentile (Q1): 0.121\n",
      "50th percentile (Q2): 0.21\n",
      "75th percentile (Q3): 0.36\n"
     ]
    }
   ],
   "source": [
    "print(\"Max:\", round(df['Normalized efficacy'].max(),3))\n",
    "print(\"Min:\", round(df['Normalized efficacy'].min(),3))\n",
    "\n",
    "p1 = df['Normalized efficacy'].quantile(0.25)\n",
    "p2 = df['Normalized efficacy'].quantile(0.50)\n",
    "p3 = df['Normalized efficacy'].quantile(0.75)\n",
    "\n",
    "print(\"25th percentile (Q1):\", round(p1,3))\n",
    "print(\"50th percentile (Q2):\", round(p2,3))\n",
    "print(\"75th percentile (Q3):\", round(p3,3))"
   ]
  },
  {
   "cell_type": "code",
   "execution_count": 8,
   "id": "1755c923",
   "metadata": {},
   "outputs": [
    {
     "data": {
      "text/html": [
       "<div>\n",
       "<style scoped>\n",
       "    .dataframe tbody tr th:only-of-type {\n",
       "        vertical-align: middle;\n",
       "    }\n",
       "\n",
       "    .dataframe tbody tr th {\n",
       "        vertical-align: top;\n",
       "    }\n",
       "\n",
       "    .dataframe thead th {\n",
       "        text-align: right;\n",
       "    }\n",
       "</style>\n",
       "<table border=\"1\" class=\"dataframe\">\n",
       "  <thead>\n",
       "    <tr style=\"text-align: right;\">\n",
       "      <th></th>\n",
       "      <th>Start</th>\n",
       "      <th>End</th>\n",
       "      <th>Normalized efficacy</th>\n",
       "    </tr>\n",
       "  </thead>\n",
       "  <tbody>\n",
       "    <tr>\n",
       "      <th>count</th>\n",
       "      <td>4.239000e+03</td>\n",
       "      <td>4.239000e+03</td>\n",
       "      <td>4239.000000</td>\n",
       "    </tr>\n",
       "    <tr>\n",
       "      <th>mean</th>\n",
       "      <td>7.116295e+07</td>\n",
       "      <td>7.116298e+07</td>\n",
       "      <td>0.254276</td>\n",
       "    </tr>\n",
       "    <tr>\n",
       "      <th>std</th>\n",
       "      <td>5.324090e+07</td>\n",
       "      <td>5.324090e+07</td>\n",
       "      <td>0.171743</td>\n",
       "    </tr>\n",
       "    <tr>\n",
       "      <th>min</th>\n",
       "      <td>1.034750e+05</td>\n",
       "      <td>1.034970e+05</td>\n",
       "      <td>0.000276</td>\n",
       "    </tr>\n",
       "    <tr>\n",
       "      <th>25%</th>\n",
       "      <td>3.153150e+07</td>\n",
       "      <td>3.153152e+07</td>\n",
       "      <td>0.121268</td>\n",
       "    </tr>\n",
       "    <tr>\n",
       "      <th>50%</th>\n",
       "      <td>5.742865e+07</td>\n",
       "      <td>5.742867e+07</td>\n",
       "      <td>0.209607</td>\n",
       "    </tr>\n",
       "    <tr>\n",
       "      <th>75%</th>\n",
       "      <td>1.040772e+08</td>\n",
       "      <td>1.040772e+08</td>\n",
       "      <td>0.360118</td>\n",
       "    </tr>\n",
       "    <tr>\n",
       "      <th>max</th>\n",
       "      <td>2.450275e+08</td>\n",
       "      <td>2.450275e+08</td>\n",
       "      <td>0.945898</td>\n",
       "    </tr>\n",
       "  </tbody>\n",
       "</table>\n",
       "</div>"
      ],
      "text/plain": [
       "              Start           End  Normalized efficacy\n",
       "count  4.239000e+03  4.239000e+03          4239.000000\n",
       "mean   7.116295e+07  7.116298e+07             0.254276\n",
       "std    5.324090e+07  5.324090e+07             0.171743\n",
       "min    1.034750e+05  1.034970e+05             0.000276\n",
       "25%    3.153150e+07  3.153152e+07             0.121268\n",
       "50%    5.742865e+07  5.742867e+07             0.209607\n",
       "75%    1.040772e+08  1.040772e+08             0.360118\n",
       "max    2.450275e+08  2.450275e+08             0.945898"
      ]
     },
     "execution_count": 8,
     "metadata": {},
     "output_type": "execute_result"
    }
   ],
   "source": [
    "df.describe()"
   ]
  },
  {
   "cell_type": "code",
   "execution_count": 9,
   "id": "f649d5ff",
   "metadata": {},
   "outputs": [
    {
     "data": {
      "text/plain": [
       "Chromosome              object\n",
       "Start                    int64\n",
       "End                      int64\n",
       "Strand                  object\n",
       "sgRNA                   object\n",
       "Normalized efficacy    float64\n",
       "dtype: object"
      ]
     },
     "execution_count": 9,
     "metadata": {},
     "output_type": "execute_result"
    }
   ],
   "source": [
    "df.dtypes"
   ]
  },
  {
   "cell_type": "code",
   "execution_count": 10,
   "id": "9d573cdb",
   "metadata": {},
   "outputs": [
    {
     "data": {
      "text/plain": [
       "<bound method DataFrame.info of      Chromosome      Start        End Strand                    sgRNA  \\\n",
       "0         chr17   33469132   33469154      -  CTTGCTCGCGCAGGACGAGGCGG   \n",
       "1          chr4  184605984  184606006      -  ACATCAGGTTACCTCTACCAAGG   \n",
       "2          chr1   11736866   11736888      +  CTGATGCCAGCTAGTGGGCGAGG   \n",
       "3          chr4   25379067   25379089      +  CTGTTTCCCATCCTTCCGGGTGG   \n",
       "4         chr12   57936737   57936759      -  AATGTATGCACAGGGAACAGAGG   \n",
       "...         ...        ...        ...    ...                      ...   \n",
       "4234      chr17   45738523   45738545      +  CACACAGTGTCCAGATACGAGGG   \n",
       "4235       chr6  160205680  160205702      +  CCAAATCCCAAACCTTACCCTGG   \n",
       "4236      chr16   10851836   10851858      -  CATCGATGTGTGCTGTGGCCAGG   \n",
       "4237      chr14  102815058  102815080      -  GCTCTTGGAGATGTACAGGAAGG   \n",
       "4238       chr1   28661208   28661230      +  GATGGAAATGGGCTTCCGCATGG   \n",
       "\n",
       "      Normalized efficacy  \n",
       "0                0.164020  \n",
       "1                0.311196  \n",
       "2                0.179397  \n",
       "3                0.498712  \n",
       "4                0.233023  \n",
       "...                   ...  \n",
       "4234             0.566859  \n",
       "4235             0.442721  \n",
       "4236             0.147836  \n",
       "4237             0.537329  \n",
       "4238             0.488419  \n",
       "\n",
       "[4239 rows x 6 columns]>"
      ]
     },
     "execution_count": 10,
     "metadata": {},
     "output_type": "execute_result"
    }
   ],
   "source": [
    "df.info"
   ]
  },
  {
   "cell_type": "code",
   "execution_count": 11,
   "id": "1b479114",
   "metadata": {},
   "outputs": [
    {
     "data": {
      "text/plain": [
       "Chromosome             0\n",
       "Start                  0\n",
       "End                    0\n",
       "Strand                 0\n",
       "sgRNA                  0\n",
       "Normalized efficacy    0\n",
       "dtype: int64"
      ]
     },
     "execution_count": 11,
     "metadata": {},
     "output_type": "execute_result"
    }
   ],
   "source": [
    "df.isnull().sum()"
   ]
  },
  {
   "cell_type": "code",
   "execution_count": 12,
   "id": "f88cb704",
   "metadata": {},
   "outputs": [
    {
     "data": {
      "text/plain": [
       "0"
      ]
     },
     "execution_count": 12,
     "metadata": {},
     "output_type": "execute_result"
    }
   ],
   "source": [
    "df.duplicated().sum()"
   ]
  },
  {
   "cell_type": "markdown",
   "id": "25197556",
   "metadata": {},
   "source": [
    "# Data Augmentation"
   ]
  },
  {
   "cell_type": "code",
   "execution_count": 13,
   "id": "a9a1ba98",
   "metadata": {},
   "outputs": [],
   "source": [
    "nucleotides = ['A', 'C', 'G', 'T']\n",
    "\n",
    "def generate_sgrnas(sgRNA):\n",
    "    augmented = []\n",
    "    for i in nucleotides:\n",
    "        for j in nucleotides:\n",
    "            if sgRNA[0] == i and sgRNA[1] == j:\n",
    "                continue\n",
    "            new_sgRNA = i + j + sgRNA[2:]\n",
    "            if len(new_sgRNA) == len(sgRNA):\n",
    "                augmented.append(new_sgRNA)\n",
    "    return random.sample(augmented, min(3, len(augmented))) #To ensure that the max augmented sample=16 (even if the more that 16) \n",
    "\n",
    "augmented_rows = []\n",
    "\n",
    "for _, row in df.iterrows():\n",
    "    sgRNA = row['sgRNA']\n",
    "    aug_sgrnas = generate_sgrnas(sgRNA)\n",
    "    for i in aug_sgrnas:\n",
    "        new_row = row.copy()\n",
    "        new_row['sgRNA'] = i\n",
    "        augmented_rows.append(new_row)\n",
    "        \n",
    "df_augmented = pd.DataFrame(augmented_rows)"
   ]
  },
  {
   "cell_type": "code",
   "execution_count": 14,
   "id": "b26763f0",
   "metadata": {},
   "outputs": [
    {
     "data": {
      "text/plain": [
       "(12717, 6)"
      ]
     },
     "execution_count": 14,
     "metadata": {},
     "output_type": "execute_result"
    }
   ],
   "source": [
    "df_augmented.shape"
   ]
  },
  {
   "cell_type": "code",
   "execution_count": 15,
   "id": "3b90bbf3",
   "metadata": {},
   "outputs": [],
   "source": [
    "df_combined= pd.concat([df, df_augmented], ignore_index=True)"
   ]
  },
  {
   "cell_type": "code",
   "execution_count": 16,
   "id": "1f6a2628",
   "metadata": {},
   "outputs": [],
   "source": [
    "df_combined = df_combined.sample(frac=1, random_state=42).reset_index(drop=True)"
   ]
  },
  {
   "cell_type": "code",
   "execution_count": 17,
   "id": "543271e8",
   "metadata": {},
   "outputs": [
    {
     "data": {
      "text/plain": [
       "\"\\ndf_augmented.to_csv('hct116_augmented.csv', index=False)\\ndf_combined.to_csv('hct116_combined.csv', index=False)\\n\""
      ]
     },
     "execution_count": 17,
     "metadata": {},
     "output_type": "execute_result"
    }
   ],
   "source": [
    "'''\n",
    "df_augmented.to_csv('hct116_augmented.csv', index=False)\n",
    "df_combined.to_csv('hct116_combined.csv', index=False)\n",
    "'''"
   ]
  },
  {
   "cell_type": "code",
   "execution_count": 18,
   "id": "042bec54",
   "metadata": {},
   "outputs": [],
   "source": [
    "df=df_combined.copy()"
   ]
  },
  {
   "cell_type": "code",
   "execution_count": 19,
   "id": "e30822f5",
   "metadata": {},
   "outputs": [
    {
     "data": {
      "text/plain": [
       "(16956, 6)"
      ]
     },
     "execution_count": 19,
     "metadata": {},
     "output_type": "execute_result"
    }
   ],
   "source": [
    "df.shape"
   ]
  },
  {
   "cell_type": "markdown",
   "id": "78532852",
   "metadata": {},
   "source": [
    "# Feature Engineering"
   ]
  },
  {
   "cell_type": "code",
   "execution_count": 20,
   "id": "0e97381b",
   "metadata": {},
   "outputs": [],
   "source": [
    "def gc_content(seq):\n",
    "    gc_count = seq.count('G') + seq.count('C')\n",
    "    return (gc_count / len(seq)) * 100\n",
    "\n",
    "df['GC content']= df['sgRNA'].apply(gc_content)"
   ]
  },
  {
   "cell_type": "code",
   "execution_count": 21,
   "id": "a3a33d9f",
   "metadata": {},
   "outputs": [
    {
     "name": "stdout",
     "output_type": "stream",
     "text": [
      "Minimum GC Content:  39.13\n",
      "Maximum GC Content:  82.609\n"
     ]
    }
   ],
   "source": [
    "print(\"Minimum GC Content: \" , round(df['GC content'].min(),3))\n",
    "print(\"Maximum GC Content: \", round(df['GC content'].max(),3))"
   ]
  },
  {
   "cell_type": "code",
   "execution_count": 22,
   "id": "c30276fa",
   "metadata": {},
   "outputs": [
    {
     "data": {
      "text/plain": [
       "Length\n",
       "23    16956\n",
       "Name: count, dtype: int64"
      ]
     },
     "execution_count": 22,
     "metadata": {},
     "output_type": "execute_result"
    }
   ],
   "source": [
    "df['Length'] = df['sgRNA'].apply(len)\n",
    "df['Length'].value_counts()"
   ]
  },
  {
   "cell_type": "code",
   "execution_count": 23,
   "id": "bc2ca49c",
   "metadata": {},
   "outputs": [],
   "source": [
    "df['sgRNA_noPAM'] = df['sgRNA'].apply(lambda x: x[:-3])\n",
    "df['Length_noPAM'] = df['sgRNA_noPAM'].apply(len)"
   ]
  },
  {
   "cell_type": "code",
   "execution_count": 24,
   "id": "f4fd5cbf",
   "metadata": {},
   "outputs": [
    {
     "data": {
      "text/plain": [
       "Length_noPAM\n",
       "20    16956\n",
       "Name: count, dtype: int64"
      ]
     },
     "execution_count": 24,
     "metadata": {},
     "output_type": "execute_result"
    }
   ],
   "source": [
    "df['Length_noPAM'].value_counts()"
   ]
  },
  {
   "cell_type": "code",
   "execution_count": 25,
   "id": "02c34b22",
   "metadata": {},
   "outputs": [
    {
     "data": {
      "text/plain": [
       "Index(['Chromosome', 'Start', 'End', 'Strand', 'sgRNA', 'Normalized efficacy',\n",
       "       'GC content', 'Length', 'sgRNA_noPAM', 'Length_noPAM'],\n",
       "      dtype='object')"
      ]
     },
     "execution_count": 25,
     "metadata": {},
     "output_type": "execute_result"
    }
   ],
   "source": [
    "df.columns"
   ]
  },
  {
   "cell_type": "code",
   "execution_count": 26,
   "id": "a7caaad8",
   "metadata": {},
   "outputs": [
    {
     "data": {
      "text/html": [
       "<div>\n",
       "<style scoped>\n",
       "    .dataframe tbody tr th:only-of-type {\n",
       "        vertical-align: middle;\n",
       "    }\n",
       "\n",
       "    .dataframe tbody tr th {\n",
       "        vertical-align: top;\n",
       "    }\n",
       "\n",
       "    .dataframe thead th {\n",
       "        text-align: right;\n",
       "    }\n",
       "</style>\n",
       "<table border=\"1\" class=\"dataframe\">\n",
       "  <thead>\n",
       "    <tr style=\"text-align: right;\">\n",
       "      <th></th>\n",
       "      <th>Chromosome</th>\n",
       "      <th>Start</th>\n",
       "      <th>End</th>\n",
       "      <th>Strand</th>\n",
       "      <th>Normalized efficacy</th>\n",
       "      <th>GC content</th>\n",
       "      <th>sgRNA_noPAM</th>\n",
       "    </tr>\n",
       "  </thead>\n",
       "  <tbody>\n",
       "    <tr>\n",
       "      <th>0</th>\n",
       "      <td>chr8</td>\n",
       "      <td>145650187</td>\n",
       "      <td>145650209</td>\n",
       "      <td>-</td>\n",
       "      <td>0.104027</td>\n",
       "      <td>69.565217</td>\n",
       "      <td>GCAACAGCTGGACTGCCCGC</td>\n",
       "    </tr>\n",
       "    <tr>\n",
       "      <th>1</th>\n",
       "      <td>chr3</td>\n",
       "      <td>183855956</td>\n",
       "      <td>183855978</td>\n",
       "      <td>-</td>\n",
       "      <td>0.127434</td>\n",
       "      <td>52.173913</td>\n",
       "      <td>AGTCACTACTGCCCTGAAAC</td>\n",
       "    </tr>\n",
       "    <tr>\n",
       "      <th>2</th>\n",
       "      <td>chr15</td>\n",
       "      <td>35224566</td>\n",
       "      <td>35224588</td>\n",
       "      <td>+</td>\n",
       "      <td>0.667152</td>\n",
       "      <td>47.826087</td>\n",
       "      <td>CATAACAGTGAACCAGAAGG</td>\n",
       "    </tr>\n",
       "    <tr>\n",
       "      <th>3</th>\n",
       "      <td>chr9</td>\n",
       "      <td>111692067</td>\n",
       "      <td>111692089</td>\n",
       "      <td>+</td>\n",
       "      <td>0.429657</td>\n",
       "      <td>47.826087</td>\n",
       "      <td>ATAGAGTATGACGTCTCCAG</td>\n",
       "    </tr>\n",
       "    <tr>\n",
       "      <th>4</th>\n",
       "      <td>chr3</td>\n",
       "      <td>48488236</td>\n",
       "      <td>48488258</td>\n",
       "      <td>+</td>\n",
       "      <td>0.384950</td>\n",
       "      <td>69.565217</td>\n",
       "      <td>GGTGAGCGGAAAGCATGGCG</td>\n",
       "    </tr>\n",
       "    <tr>\n",
       "      <th>...</th>\n",
       "      <td>...</td>\n",
       "      <td>...</td>\n",
       "      <td>...</td>\n",
       "      <td>...</td>\n",
       "      <td>...</td>\n",
       "      <td>...</td>\n",
       "      <td>...</td>\n",
       "    </tr>\n",
       "    <tr>\n",
       "      <th>16951</th>\n",
       "      <td>chr10</td>\n",
       "      <td>103908218</td>\n",
       "      <td>103908240</td>\n",
       "      <td>-</td>\n",
       "      <td>0.100015</td>\n",
       "      <td>60.869565</td>\n",
       "      <td>GTGTGAGCGGCTTCGAGAAC</td>\n",
       "    </tr>\n",
       "    <tr>\n",
       "      <th>16952</th>\n",
       "      <td>chr20</td>\n",
       "      <td>39741544</td>\n",
       "      <td>39741566</td>\n",
       "      <td>+</td>\n",
       "      <td>0.148624</td>\n",
       "      <td>56.521739</td>\n",
       "      <td>CGCCCTGTACTTCATCGACA</td>\n",
       "    </tr>\n",
       "    <tr>\n",
       "      <th>16953</th>\n",
       "      <td>chr16</td>\n",
       "      <td>18861337</td>\n",
       "      <td>18861359</td>\n",
       "      <td>+</td>\n",
       "      <td>0.356358</td>\n",
       "      <td>60.869565</td>\n",
       "      <td>TGTTCACGAGCAACCGCAGC</td>\n",
       "    </tr>\n",
       "    <tr>\n",
       "      <th>16954</th>\n",
       "      <td>chr14</td>\n",
       "      <td>73544087</td>\n",
       "      <td>73544109</td>\n",
       "      <td>-</td>\n",
       "      <td>0.168377</td>\n",
       "      <td>47.826087</td>\n",
       "      <td>CTTTCCAACCATAGACACAG</td>\n",
       "    </tr>\n",
       "    <tr>\n",
       "      <th>16955</th>\n",
       "      <td>chr19</td>\n",
       "      <td>56171887</td>\n",
       "      <td>56171909</td>\n",
       "      <td>-</td>\n",
       "      <td>0.189660</td>\n",
       "      <td>65.217391</td>\n",
       "      <td>TCTCTTCTTCTCGTGGCGGG</td>\n",
       "    </tr>\n",
       "  </tbody>\n",
       "</table>\n",
       "<p>16956 rows × 7 columns</p>\n",
       "</div>"
      ],
      "text/plain": [
       "      Chromosome      Start        End Strand  Normalized efficacy  \\\n",
       "0           chr8  145650187  145650209      -             0.104027   \n",
       "1           chr3  183855956  183855978      -             0.127434   \n",
       "2          chr15   35224566   35224588      +             0.667152   \n",
       "3           chr9  111692067  111692089      +             0.429657   \n",
       "4           chr3   48488236   48488258      +             0.384950   \n",
       "...          ...        ...        ...    ...                  ...   \n",
       "16951      chr10  103908218  103908240      -             0.100015   \n",
       "16952      chr20   39741544   39741566      +             0.148624   \n",
       "16953      chr16   18861337   18861359      +             0.356358   \n",
       "16954      chr14   73544087   73544109      -             0.168377   \n",
       "16955      chr19   56171887   56171909      -             0.189660   \n",
       "\n",
       "       GC content           sgRNA_noPAM  \n",
       "0       69.565217  GCAACAGCTGGACTGCCCGC  \n",
       "1       52.173913  AGTCACTACTGCCCTGAAAC  \n",
       "2       47.826087  CATAACAGTGAACCAGAAGG  \n",
       "3       47.826087  ATAGAGTATGACGTCTCCAG  \n",
       "4       69.565217  GGTGAGCGGAAAGCATGGCG  \n",
       "...           ...                   ...  \n",
       "16951   60.869565  GTGTGAGCGGCTTCGAGAAC  \n",
       "16952   56.521739  CGCCCTGTACTTCATCGACA  \n",
       "16953   60.869565  TGTTCACGAGCAACCGCAGC  \n",
       "16954   47.826087  CTTTCCAACCATAGACACAG  \n",
       "16955   65.217391  TCTCTTCTTCTCGTGGCGGG  \n",
       "\n",
       "[16956 rows x 7 columns]"
      ]
     },
     "execution_count": 26,
     "metadata": {},
     "output_type": "execute_result"
    }
   ],
   "source": [
    "df=df.drop(['Length','Length_noPAM', 'sgRNA'], axis=1)\n",
    "df"
   ]
  },
  {
   "cell_type": "markdown",
   "id": "e0cf2949",
   "metadata": {},
   "source": [
    "# One Hot Encoding"
   ]
  },
  {
   "cell_type": "code",
   "execution_count": 27,
   "id": "3836413d",
   "metadata": {},
   "outputs": [
    {
     "data": {
      "text/plain": [
       "['preprocessing/hct116_encoder.pkl']"
      ]
     },
     "execution_count": 27,
     "metadata": {},
     "output_type": "execute_result"
    }
   ],
   "source": [
    "nucleotides = ['A', 'T', 'C', 'G']\n",
    "encoder = OneHotEncoder(categories=[nucleotides], handle_unknown='ignore')\n",
    "def one_hot_encoder(sequence):\n",
    "    seq_arr = np.array(list(sequence)).reshape(-1, 1)\n",
    "    return encoder.fit_transform(seq_arr).toarray()\n",
    "\n",
    "result = df['sgRNA_noPAM'].apply(one_hot_encoder)\n",
    "one_hot_arr = np.stack(result.to_numpy())  #shape: (samples, seq_len, 4)\n",
    "\n",
    "joblib.dump(encoder, 'preprocessing/hct116_encoder.pkl')"
   ]
  },
  {
   "cell_type": "markdown",
   "id": "fc9fccd2",
   "metadata": {},
   "source": [
    "# Data Preperation & Splitting with One Hot Encoding"
   ]
  },
  {
   "cell_type": "code",
   "execution_count": 28,
   "id": "006c1528",
   "metadata": {},
   "outputs": [],
   "source": [
    "strand_map = {'+': 0, '-': 1}\n",
    "df['Strand'] = df['Strand'].map(strand_map)\n",
    "df['Chromosome_number'] = df['Chromosome'].str.replace('chr', '', regex=False).astype(str)\n",
    "df['Chromosome_number'] = df['Chromosome_number'].replace({'X': 23})\n",
    "df['Chromosome_number'] = df['Chromosome_number'].astype(int)\n",
    "df=df.drop(['Chromosome'], axis=1)\n",
    "\n",
    "features_df = df[['Chromosome_number', 'Strand','GC content']].copy()\n",
    "\n",
    "y = df['Normalized efficacy'].values\n",
    "\n",
    "X_seq_train, X_seq_test, X_feat_train_df, X_feat_test_df, y_train, y_test = train_test_split(\n",
    "    one_hot_arr, features_df, y, test_size=0.2, random_state=42\n",
    ")\n",
    "\n",
    "scaler_gc = MinMaxScaler()\n",
    "X_feat_train_df['GC content'] = scaler_gc.fit_transform(X_feat_train_df[['GC content']])\n",
    "X_feat_test_df['GC content'] = scaler_gc.transform(X_feat_test_df[['GC content']])\n",
    "joblib.dump(scaler_gc, 'preprocessing/hct116_gc_minmax_scaler.pkl')\n",
    "\n",
    "X_num_train = X_feat_train_df.values\n",
    "X_num_test = X_feat_test_df.values"
   ]
  },
  {
   "cell_type": "markdown",
   "id": "a01c167e",
   "metadata": {},
   "source": [
    "# Saving models"
   ]
  },
  {
   "cell_type": "code",
   "execution_count": 29,
   "id": "3c9b9197",
   "metadata": {},
   "outputs": [],
   "source": [
    "def save_run(type, model, data, encoding_method, feature_engineering, run_id, hyperparameters, metrics, plots):\n",
    "\n",
    "    dir = os.path.join(\"/Users/LENOVO/OneDrive/Desktop/CRISPR PROJECT\", \"Best Performing Models/ hct116\")\n",
    "    os.makedirs(dir, exist_ok=True)\n",
    "\n",
    "    plot_paths = {}\n",
    "    for name, fig in plots.items():\n",
    "        path = os.path.join(dir, f\"{name}_run{run_id}.png\")\n",
    "        fig.savefig(path)\n",
    "        plt.close(fig)\n",
    "        plot_paths[name] = path\n",
    "\n",
    "    model_arch_path = None\n",
    "    if model is not None:\n",
    "        model_arch_path = os.path.join(dir, f\"model_architecture_run_{run_id}.txt\")\n",
    "        with open(model_arch_path, \"w\", encoding=\"utf-8\") as f:\n",
    "            model.summary(print_fn=lambda x: f.write(x + \"\\n\"))\n",
    "    \n",
    "    model_file_path = None\n",
    "    if model is not None:\n",
    "        model_file_path = os.path.join(dir, f\"model_run_{run_id}.keras\")\n",
    "        model.save(model_file_path) \n",
    "\n",
    "    run = {\n",
    "        \"Model:\": type,\n",
    "        \"Run_id\": run_id,\n",
    "        \"Data\": data,\n",
    "        \"Encoding Method\": encoding_method,\n",
    "        \"Feature Engineering\": feature_engineering,\n",
    "        \"Hyperparameters\": hyperparameters,\n",
    "        \"Evaluation Metrics\": metrics,\n",
    "        \"Plots\": plot_paths,\n",
    "        \"Model Architecture\": model_arch_path,\n",
    "        \"Model Path\": model_file_path\n",
    "    }\n",
    "\n",
    "    json_path = os.path.join(dir, \"runs.json\")\n",
    "    if os.path.exists(json_path):\n",
    "        with open(json_path, \"r\") as f:\n",
    "            all_runs = json.load(f)\n",
    "    else:\n",
    "        all_runs = []\n",
    "\n",
    "    all_runs.append(run)\n",
    "\n",
    "    with open(json_path, \"w\") as f:\n",
    "        json.dump(all_runs, f, indent=2)\n",
    "        \n",
    "    print(\"Done\")"
   ]
  },
  {
   "cell_type": "markdown",
   "id": "77c6c5f9",
   "metadata": {},
   "source": [
    "# BiLSTM with Attention"
   ]
  },
  {
   "cell_type": "code",
   "execution_count": 30,
   "id": "379b735e",
   "metadata": {},
   "outputs": [
    {
     "name": "stdout",
     "output_type": "stream",
     "text": [
      "WARNING:tensorflow:From c:\\Program Files\\Python311\\Lib\\site-packages\\keras\\src\\backend\\tensorflow\\core.py:219: The name tf.placeholder is deprecated. Please use tf.compat.v1.placeholder instead.\n",
      "\n",
      "Epoch 1/250\n",
      "\u001b[1m424/424\u001b[0m \u001b[32m━━━━━━━━━━━━━━━━━━━━\u001b[0m\u001b[37m\u001b[0m \u001b[1m11s\u001b[0m 14ms/step - loss: 0.3169 - mae: 0.4297 - val_loss: 0.0565 - val_mae: 0.1880\n",
      "Epoch 2/250\n",
      "\u001b[1m424/424\u001b[0m \u001b[32m━━━━━━━━━━━━━━━━━━━━\u001b[0m\u001b[37m\u001b[0m \u001b[1m6s\u001b[0m 13ms/step - loss: 0.0815 - mae: 0.2262 - val_loss: 0.0390 - val_mae: 0.1536\n",
      "Epoch 3/250\n",
      "\u001b[1m424/424\u001b[0m \u001b[32m━━━━━━━━━━━━━━━━━━━━\u001b[0m\u001b[37m\u001b[0m \u001b[1m6s\u001b[0m 13ms/step - loss: 0.0539 - mae: 0.1833 - val_loss: 0.0351 - val_mae: 0.1431\n",
      "Epoch 4/250\n",
      "\u001b[1m424/424\u001b[0m \u001b[32m━━━━━━━━━━━━━━━━━━━━\u001b[0m\u001b[37m\u001b[0m \u001b[1m7s\u001b[0m 16ms/step - loss: 0.0419 - mae: 0.1621 - val_loss: 0.0313 - val_mae: 0.1366\n",
      "Epoch 5/250\n",
      "\u001b[1m424/424\u001b[0m \u001b[32m━━━━━━━━━━━━━━━━━━━━\u001b[0m\u001b[37m\u001b[0m \u001b[1m7s\u001b[0m 16ms/step - loss: 0.0376 - mae: 0.1541 - val_loss: 0.0303 - val_mae: 0.1364\n",
      "Epoch 6/250\n",
      "\u001b[1m424/424\u001b[0m \u001b[32m━━━━━━━━━━━━━━━━━━━━\u001b[0m\u001b[37m\u001b[0m \u001b[1m7s\u001b[0m 16ms/step - loss: 0.0346 - mae: 0.1473 - val_loss: 0.0286 - val_mae: 0.1327\n",
      "Epoch 7/250\n",
      "\u001b[1m424/424\u001b[0m \u001b[32m━━━━━━━━━━━━━━━━━━━━\u001b[0m\u001b[37m\u001b[0m \u001b[1m7s\u001b[0m 16ms/step - loss: 0.0333 - mae: 0.1451 - val_loss: 0.0283 - val_mae: 0.1321\n",
      "Epoch 8/250\n",
      "\u001b[1m424/424\u001b[0m \u001b[32m━━━━━━━━━━━━━━━━━━━━\u001b[0m\u001b[37m\u001b[0m \u001b[1m7s\u001b[0m 17ms/step - loss: 0.0313 - mae: 0.1416 - val_loss: 0.0283 - val_mae: 0.1309\n",
      "Epoch 9/250\n",
      "\u001b[1m424/424\u001b[0m \u001b[32m━━━━━━━━━━━━━━━━━━━━\u001b[0m\u001b[37m\u001b[0m \u001b[1m7s\u001b[0m 16ms/step - loss: 0.0306 - mae: 0.1396 - val_loss: 0.0272 - val_mae: 0.1280\n",
      "Epoch 10/250\n",
      "\u001b[1m424/424\u001b[0m \u001b[32m━━━━━━━━━━━━━━━━━━━━\u001b[0m\u001b[37m\u001b[0m \u001b[1m7s\u001b[0m 17ms/step - loss: 0.0294 - mae: 0.1366 - val_loss: 0.0268 - val_mae: 0.1293\n",
      "Epoch 11/250\n",
      "\u001b[1m424/424\u001b[0m \u001b[32m━━━━━━━━━━━━━━━━━━━━\u001b[0m\u001b[37m\u001b[0m \u001b[1m7s\u001b[0m 16ms/step - loss: 0.0289 - mae: 0.1357 - val_loss: 0.0262 - val_mae: 0.1288\n",
      "Epoch 12/250\n",
      "\u001b[1m424/424\u001b[0m \u001b[32m━━━━━━━━━━━━━━━━━━━━\u001b[0m\u001b[37m\u001b[0m \u001b[1m7s\u001b[0m 16ms/step - loss: 0.0291 - mae: 0.1367 - val_loss: 0.0258 - val_mae: 0.1287\n",
      "Epoch 13/250\n",
      "\u001b[1m424/424\u001b[0m \u001b[32m━━━━━━━━━━━━━━━━━━━━\u001b[0m\u001b[37m\u001b[0m \u001b[1m7s\u001b[0m 17ms/step - loss: 0.0285 - mae: 0.1343 - val_loss: 0.0258 - val_mae: 0.1279\n",
      "Epoch 14/250\n",
      "\u001b[1m424/424\u001b[0m \u001b[32m━━━━━━━━━━━━━━━━━━━━\u001b[0m\u001b[37m\u001b[0m \u001b[1m7s\u001b[0m 17ms/step - loss: 0.0279 - mae: 0.1332 - val_loss: 0.0257 - val_mae: 0.1267\n",
      "Epoch 15/250\n",
      "\u001b[1m424/424\u001b[0m \u001b[32m━━━━━━━━━━━━━━━━━━━━\u001b[0m\u001b[37m\u001b[0m \u001b[1m7s\u001b[0m 17ms/step - loss: 0.0279 - mae: 0.1328 - val_loss: 0.0256 - val_mae: 0.1297\n",
      "Epoch 16/250\n",
      "\u001b[1m424/424\u001b[0m \u001b[32m━━━━━━━━━━━━━━━━━━━━\u001b[0m\u001b[37m\u001b[0m \u001b[1m7s\u001b[0m 16ms/step - loss: 0.0265 - mae: 0.1302 - val_loss: 0.0255 - val_mae: 0.1252\n",
      "Epoch 17/250\n",
      "\u001b[1m424/424\u001b[0m \u001b[32m━━━━━━━━━━━━━━━━━━━━\u001b[0m\u001b[37m\u001b[0m \u001b[1m7s\u001b[0m 16ms/step - loss: 0.0270 - mae: 0.1311 - val_loss: 0.0254 - val_mae: 0.1257\n",
      "Epoch 18/250\n",
      "\u001b[1m424/424\u001b[0m \u001b[32m━━━━━━━━━━━━━━━━━━━━\u001b[0m\u001b[37m\u001b[0m \u001b[1m7s\u001b[0m 17ms/step - loss: 0.0264 - mae: 0.1292 - val_loss: 0.0248 - val_mae: 0.1264\n",
      "Epoch 19/250\n",
      "\u001b[1m424/424\u001b[0m \u001b[32m━━━━━━━━━━━━━━━━━━━━\u001b[0m\u001b[37m\u001b[0m \u001b[1m7s\u001b[0m 17ms/step - loss: 0.0267 - mae: 0.1302 - val_loss: 0.0246 - val_mae: 0.1233\n",
      "Epoch 20/250\n",
      "\u001b[1m424/424\u001b[0m \u001b[32m━━━━━━━━━━━━━━━━━━━━\u001b[0m\u001b[37m\u001b[0m \u001b[1m7s\u001b[0m 16ms/step - loss: 0.0268 - mae: 0.1300 - val_loss: 0.0241 - val_mae: 0.1234\n",
      "Epoch 21/250\n",
      "\u001b[1m424/424\u001b[0m \u001b[32m━━━━━━━━━━━━━━━━━━━━\u001b[0m\u001b[37m\u001b[0m \u001b[1m7s\u001b[0m 17ms/step - loss: 0.0261 - mae: 0.1289 - val_loss: 0.0241 - val_mae: 0.1224\n",
      "Epoch 22/250\n",
      "\u001b[1m424/424\u001b[0m \u001b[32m━━━━━━━━━━━━━━━━━━━━\u001b[0m\u001b[37m\u001b[0m \u001b[1m7s\u001b[0m 17ms/step - loss: 0.0252 - mae: 0.1261 - val_loss: 0.0239 - val_mae: 0.1208\n",
      "Epoch 23/250\n",
      "\u001b[1m424/424\u001b[0m \u001b[32m━━━━━━━━━━━━━━━━━━━━\u001b[0m\u001b[37m\u001b[0m \u001b[1m7s\u001b[0m 16ms/step - loss: 0.0254 - mae: 0.1266 - val_loss: 0.0234 - val_mae: 0.1216\n",
      "Epoch 24/250\n",
      "\u001b[1m424/424\u001b[0m \u001b[32m━━━━━━━━━━━━━━━━━━━━\u001b[0m\u001b[37m\u001b[0m \u001b[1m34s\u001b[0m 81ms/step - loss: 0.0250 - mae: 0.1256 - val_loss: 0.0240 - val_mae: 0.1187\n",
      "Epoch 25/250\n",
      "\u001b[1m424/424\u001b[0m \u001b[32m━━━━━━━━━━━━━━━━━━━━\u001b[0m\u001b[37m\u001b[0m \u001b[1m6s\u001b[0m 14ms/step - loss: 0.0249 - mae: 0.1253 - val_loss: 0.0231 - val_mae: 0.1189\n",
      "Epoch 26/250\n",
      "\u001b[1m424/424\u001b[0m \u001b[32m━━━━━━━━━━━━━━━━━━━━\u001b[0m\u001b[37m\u001b[0m \u001b[1m6s\u001b[0m 14ms/step - loss: 0.0244 - mae: 0.1239 - val_loss: 0.0228 - val_mae: 0.1182\n",
      "Epoch 27/250\n",
      "\u001b[1m424/424\u001b[0m \u001b[32m━━━━━━━━━━━━━━━━━━━━\u001b[0m\u001b[37m\u001b[0m \u001b[1m6s\u001b[0m 13ms/step - loss: 0.0243 - mae: 0.1231 - val_loss: 0.0222 - val_mae: 0.1167\n",
      "Epoch 28/250\n",
      "\u001b[1m424/424\u001b[0m \u001b[32m━━━━━━━━━━━━━━━━━━━━\u001b[0m\u001b[37m\u001b[0m \u001b[1m6s\u001b[0m 15ms/step - loss: 0.0234 - mae: 0.1202 - val_loss: 0.0220 - val_mae: 0.1165\n",
      "Epoch 29/250\n",
      "\u001b[1m424/424\u001b[0m \u001b[32m━━━━━━━━━━━━━━━━━━━━\u001b[0m\u001b[37m\u001b[0m \u001b[1m7s\u001b[0m 17ms/step - loss: 0.0230 - mae: 0.1195 - val_loss: 0.0220 - val_mae: 0.1191\n",
      "Epoch 30/250\n",
      "\u001b[1m424/424\u001b[0m \u001b[32m━━━━━━━━━━━━━━━━━━━━\u001b[0m\u001b[37m\u001b[0m \u001b[1m7s\u001b[0m 17ms/step - loss: 0.0224 - mae: 0.1186 - val_loss: 0.0217 - val_mae: 0.1143\n",
      "Epoch 31/250\n",
      "\u001b[1m424/424\u001b[0m \u001b[32m━━━━━━━━━━━━━━━━━━━━\u001b[0m\u001b[37m\u001b[0m \u001b[1m9s\u001b[0m 22ms/step - loss: 0.0219 - mae: 0.1172 - val_loss: 0.0220 - val_mae: 0.1145\n",
      "Epoch 32/250\n",
      "\u001b[1m424/424\u001b[0m \u001b[32m━━━━━━━━━━━━━━━━━━━━\u001b[0m\u001b[37m\u001b[0m \u001b[1m7s\u001b[0m 17ms/step - loss: 0.0221 - mae: 0.1174 - val_loss: 0.0220 - val_mae: 0.1139\n",
      "Epoch 33/250\n",
      "\u001b[1m424/424\u001b[0m \u001b[32m━━━━━━━━━━━━━━━━━━━━\u001b[0m\u001b[37m\u001b[0m \u001b[1m7s\u001b[0m 17ms/step - loss: 0.0212 - mae: 0.1140 - val_loss: 0.0197 - val_mae: 0.1125\n",
      "Epoch 34/250\n",
      "\u001b[1m424/424\u001b[0m \u001b[32m━━━━━━━━━━━━━━━━━━━━\u001b[0m\u001b[37m\u001b[0m \u001b[1m7s\u001b[0m 17ms/step - loss: 0.0210 - mae: 0.1149 - val_loss: 0.0196 - val_mae: 0.1101\n",
      "Epoch 35/250\n",
      "\u001b[1m424/424\u001b[0m \u001b[32m━━━━━━━━━━━━━━━━━━━━\u001b[0m\u001b[37m\u001b[0m \u001b[1m7s\u001b[0m 17ms/step - loss: 0.0207 - mae: 0.1131 - val_loss: 0.0193 - val_mae: 0.1101\n",
      "Epoch 36/250\n",
      "\u001b[1m424/424\u001b[0m \u001b[32m━━━━━━━━━━━━━━━━━━━━\u001b[0m\u001b[37m\u001b[0m \u001b[1m7s\u001b[0m 17ms/step - loss: 0.0204 - mae: 0.1129 - val_loss: 0.0190 - val_mae: 0.1086\n",
      "Epoch 37/250\n",
      "\u001b[1m424/424\u001b[0m \u001b[32m━━━━━━━━━━━━━━━━━━━━\u001b[0m\u001b[37m\u001b[0m \u001b[1m7s\u001b[0m 17ms/step - loss: 0.0201 - mae: 0.1116 - val_loss: 0.0186 - val_mae: 0.1079\n",
      "Epoch 38/250\n",
      "\u001b[1m424/424\u001b[0m \u001b[32m━━━━━━━━━━━━━━━━━━━━\u001b[0m\u001b[37m\u001b[0m \u001b[1m7s\u001b[0m 18ms/step - loss: 0.0195 - mae: 0.1105 - val_loss: 0.0182 - val_mae: 0.1053\n",
      "Epoch 39/250\n",
      "\u001b[1m424/424\u001b[0m \u001b[32m━━━━━━━━━━━━━━━━━━━━\u001b[0m\u001b[37m\u001b[0m \u001b[1m7s\u001b[0m 17ms/step - loss: 0.0191 - mae: 0.1082 - val_loss: 0.0183 - val_mae: 0.1048\n",
      "Epoch 40/250\n",
      "\u001b[1m424/424\u001b[0m \u001b[32m━━━━━━━━━━━━━━━━━━━━\u001b[0m\u001b[37m\u001b[0m \u001b[1m7s\u001b[0m 16ms/step - loss: 0.0186 - mae: 0.1077 - val_loss: 0.0176 - val_mae: 0.1030\n",
      "Epoch 41/250\n",
      "\u001b[1m424/424\u001b[0m \u001b[32m━━━━━━━━━━━━━━━━━━━━\u001b[0m\u001b[37m\u001b[0m \u001b[1m7s\u001b[0m 17ms/step - loss: 0.0184 - mae: 0.1074 - val_loss: 0.0167 - val_mae: 0.1021\n",
      "Epoch 42/250\n",
      "\u001b[1m424/424\u001b[0m \u001b[32m━━━━━━━━━━━━━━━━━━━━\u001b[0m\u001b[37m\u001b[0m \u001b[1m7s\u001b[0m 17ms/step - loss: 0.0183 - mae: 0.1061 - val_loss: 0.0167 - val_mae: 0.1035\n",
      "Epoch 43/250\n",
      "\u001b[1m424/424\u001b[0m \u001b[32m━━━━━━━━━━━━━━━━━━━━\u001b[0m\u001b[37m\u001b[0m \u001b[1m7s\u001b[0m 17ms/step - loss: 0.0174 - mae: 0.1036 - val_loss: 0.0163 - val_mae: 0.0988\n",
      "Epoch 44/250\n",
      "\u001b[1m424/424\u001b[0m \u001b[32m━━━━━━━━━━━━━━━━━━━━\u001b[0m\u001b[37m\u001b[0m \u001b[1m7s\u001b[0m 17ms/step - loss: 0.0168 - mae: 0.1025 - val_loss: 0.0158 - val_mae: 0.0975\n",
      "Epoch 45/250\n",
      "\u001b[1m424/424\u001b[0m \u001b[32m━━━━━━━━━━━━━━━━━━━━\u001b[0m\u001b[37m\u001b[0m \u001b[1m7s\u001b[0m 17ms/step - loss: 0.0166 - mae: 0.1014 - val_loss: 0.0155 - val_mae: 0.0989\n",
      "Epoch 46/250\n",
      "\u001b[1m424/424\u001b[0m \u001b[32m━━━━━━━━━━━━━━━━━━━━\u001b[0m\u001b[37m\u001b[0m \u001b[1m7s\u001b[0m 17ms/step - loss: 0.0166 - mae: 0.1012 - val_loss: 0.0148 - val_mae: 0.0950\n",
      "Epoch 47/250\n",
      "\u001b[1m424/424\u001b[0m \u001b[32m━━━━━━━━━━━━━━━━━━━━\u001b[0m\u001b[37m\u001b[0m \u001b[1m8s\u001b[0m 18ms/step - loss: 0.0155 - mae: 0.0978 - val_loss: 0.0146 - val_mae: 0.0938\n",
      "Epoch 48/250\n",
      "\u001b[1m424/424\u001b[0m \u001b[32m━━━━━━━━━━━━━━━━━━━━\u001b[0m\u001b[37m\u001b[0m \u001b[1m7s\u001b[0m 17ms/step - loss: 0.0153 - mae: 0.0977 - val_loss: 0.0143 - val_mae: 0.0939\n",
      "Epoch 49/250\n",
      "\u001b[1m424/424\u001b[0m \u001b[32m━━━━━━━━━━━━━━━━━━━━\u001b[0m\u001b[37m\u001b[0m \u001b[1m7s\u001b[0m 18ms/step - loss: 0.0151 - mae: 0.0974 - val_loss: 0.0138 - val_mae: 0.0915\n",
      "Epoch 50/250\n",
      "\u001b[1m424/424\u001b[0m \u001b[32m━━━━━━━━━━━━━━━━━━━━\u001b[0m\u001b[37m\u001b[0m \u001b[1m7s\u001b[0m 16ms/step - loss: 0.0152 - mae: 0.0969 - val_loss: 0.0143 - val_mae: 0.0921\n",
      "Epoch 51/250\n",
      "\u001b[1m424/424\u001b[0m \u001b[32m━━━━━━━━━━━━━━━━━━━━\u001b[0m\u001b[37m\u001b[0m \u001b[1m7s\u001b[0m 17ms/step - loss: 0.0145 - mae: 0.0948 - val_loss: 0.0136 - val_mae: 0.0893\n",
      "Epoch 52/250\n",
      "\u001b[1m424/424\u001b[0m \u001b[32m━━━━━━━━━━━━━━━━━━━━\u001b[0m\u001b[37m\u001b[0m \u001b[1m7s\u001b[0m 17ms/step - loss: 0.0143 - mae: 0.0941 - val_loss: 0.0129 - val_mae: 0.0906\n",
      "Epoch 53/250\n",
      "\u001b[1m424/424\u001b[0m \u001b[32m━━━━━━━━━━━━━━━━━━━━\u001b[0m\u001b[37m\u001b[0m \u001b[1m7s\u001b[0m 17ms/step - loss: 0.0137 - mae: 0.0916 - val_loss: 0.0126 - val_mae: 0.0876\n",
      "Epoch 54/250\n",
      "\u001b[1m424/424\u001b[0m \u001b[32m━━━━━━━━━━━━━━━━━━━━\u001b[0m\u001b[37m\u001b[0m \u001b[1m7s\u001b[0m 17ms/step - loss: 0.0142 - mae: 0.0937 - val_loss: 0.0129 - val_mae: 0.0872\n",
      "Epoch 55/250\n",
      "\u001b[1m424/424\u001b[0m \u001b[32m━━━━━━━━━━━━━━━━━━━━\u001b[0m\u001b[37m\u001b[0m \u001b[1m7s\u001b[0m 16ms/step - loss: 0.0135 - mae: 0.0905 - val_loss: 0.0120 - val_mae: 0.0847\n",
      "Epoch 56/250\n",
      "\u001b[1m424/424\u001b[0m \u001b[32m━━━━━━━━━━━━━━━━━━━━\u001b[0m\u001b[37m\u001b[0m \u001b[1m7s\u001b[0m 17ms/step - loss: 0.0128 - mae: 0.0888 - val_loss: 0.0119 - val_mae: 0.0843\n",
      "Epoch 57/250\n",
      "\u001b[1m424/424\u001b[0m \u001b[32m━━━━━━━━━━━━━━━━━━━━\u001b[0m\u001b[37m\u001b[0m \u001b[1m7s\u001b[0m 17ms/step - loss: 0.0128 - mae: 0.0888 - val_loss: 0.0111 - val_mae: 0.0821\n",
      "Epoch 58/250\n",
      "\u001b[1m424/424\u001b[0m \u001b[32m━━━━━━━━━━━━━━━━━━━━\u001b[0m\u001b[37m\u001b[0m \u001b[1m7s\u001b[0m 17ms/step - loss: 0.0123 - mae: 0.0876 - val_loss: 0.0117 - val_mae: 0.0830\n",
      "Epoch 59/250\n",
      "\u001b[1m424/424\u001b[0m \u001b[32m━━━━━━━━━━━━━━━━━━━━\u001b[0m\u001b[37m\u001b[0m \u001b[1m7s\u001b[0m 17ms/step - loss: 0.0125 - mae: 0.0877 - val_loss: 0.0109 - val_mae: 0.0808\n",
      "Epoch 60/250\n",
      "\u001b[1m424/424\u001b[0m \u001b[32m━━━━━━━━━━━━━━━━━━━━\u001b[0m\u001b[37m\u001b[0m \u001b[1m7s\u001b[0m 17ms/step - loss: 0.0118 - mae: 0.0850 - val_loss: 0.0104 - val_mae: 0.0787\n",
      "Epoch 61/250\n",
      "\u001b[1m424/424\u001b[0m \u001b[32m━━━━━━━━━━━━━━━━━━━━\u001b[0m\u001b[37m\u001b[0m \u001b[1m7s\u001b[0m 16ms/step - loss: 0.0115 - mae: 0.0840 - val_loss: 0.0107 - val_mae: 0.0793\n",
      "Epoch 62/250\n",
      "\u001b[1m424/424\u001b[0m \u001b[32m━━━━━━━━━━━━━━━━━━━━\u001b[0m\u001b[37m\u001b[0m \u001b[1m7s\u001b[0m 16ms/step - loss: 0.0118 - mae: 0.0847 - val_loss: 0.0099 - val_mae: 0.0767\n",
      "Epoch 63/250\n",
      "\u001b[1m424/424\u001b[0m \u001b[32m━━━━━━━━━━━━━━━━━━━━\u001b[0m\u001b[37m\u001b[0m \u001b[1m7s\u001b[0m 16ms/step - loss: 0.0109 - mae: 0.0821 - val_loss: 0.0098 - val_mae: 0.0762\n",
      "Epoch 64/250\n",
      "\u001b[1m424/424\u001b[0m \u001b[32m━━━━━━━━━━━━━━━━━━━━\u001b[0m\u001b[37m\u001b[0m \u001b[1m7s\u001b[0m 15ms/step - loss: 0.0112 - mae: 0.0829 - val_loss: 0.0092 - val_mae: 0.0739\n",
      "Epoch 65/250\n",
      "\u001b[1m424/424\u001b[0m \u001b[32m━━━━━━━━━━━━━━━━━━━━\u001b[0m\u001b[37m\u001b[0m \u001b[1m6s\u001b[0m 15ms/step - loss: 0.0107 - mae: 0.0807 - val_loss: 0.0096 - val_mae: 0.0749\n",
      "Epoch 66/250\n",
      "\u001b[1m424/424\u001b[0m \u001b[32m━━━━━━━━━━━━━━━━━━━━\u001b[0m\u001b[37m\u001b[0m \u001b[1m7s\u001b[0m 16ms/step - loss: 0.0106 - mae: 0.0809 - val_loss: 0.0090 - val_mae: 0.0730\n",
      "Epoch 67/250\n",
      "\u001b[1m424/424\u001b[0m \u001b[32m━━━━━━━━━━━━━━━━━━━━\u001b[0m\u001b[37m\u001b[0m \u001b[1m7s\u001b[0m 16ms/step - loss: 0.0104 - mae: 0.0803 - val_loss: 0.0084 - val_mae: 0.0709\n",
      "Epoch 68/250\n",
      "\u001b[1m424/424\u001b[0m \u001b[32m━━━━━━━━━━━━━━━━━━━━\u001b[0m\u001b[37m\u001b[0m \u001b[1m7s\u001b[0m 16ms/step - loss: 0.0105 - mae: 0.0795 - val_loss: 0.0085 - val_mae: 0.0713\n",
      "Epoch 69/250\n",
      "\u001b[1m424/424\u001b[0m \u001b[32m━━━━━━━━━━━━━━━━━━━━\u001b[0m\u001b[37m\u001b[0m \u001b[1m7s\u001b[0m 16ms/step - loss: 0.0100 - mae: 0.0784 - val_loss: 0.0088 - val_mae: 0.0718\n",
      "Epoch 70/250\n",
      "\u001b[1m424/424\u001b[0m \u001b[32m━━━━━━━━━━━━━━━━━━━━\u001b[0m\u001b[37m\u001b[0m \u001b[1m7s\u001b[0m 16ms/step - loss: 0.0100 - mae: 0.0781 - val_loss: 0.0081 - val_mae: 0.0686\n",
      "Epoch 71/250\n",
      "\u001b[1m424/424\u001b[0m \u001b[32m━━━━━━━━━━━━━━━━━━━━\u001b[0m\u001b[37m\u001b[0m \u001b[1m7s\u001b[0m 16ms/step - loss: 0.0096 - mae: 0.0770 - val_loss: 0.0078 - val_mae: 0.0676\n",
      "Epoch 72/250\n",
      "\u001b[1m424/424\u001b[0m \u001b[32m━━━━━━━━━━━━━━━━━━━━\u001b[0m\u001b[37m\u001b[0m \u001b[1m7s\u001b[0m 16ms/step - loss: 0.0096 - mae: 0.0771 - val_loss: 0.0078 - val_mae: 0.0677\n",
      "Epoch 73/250\n",
      "\u001b[1m424/424\u001b[0m \u001b[32m━━━━━━━━━━━━━━━━━━━━\u001b[0m\u001b[37m\u001b[0m \u001b[1m7s\u001b[0m 16ms/step - loss: 0.0095 - mae: 0.0763 - val_loss: 0.0072 - val_mae: 0.0654\n",
      "Epoch 74/250\n",
      "\u001b[1m424/424\u001b[0m \u001b[32m━━━━━━━━━━━━━━━━━━━━\u001b[0m\u001b[37m\u001b[0m \u001b[1m7s\u001b[0m 16ms/step - loss: 0.0090 - mae: 0.0744 - val_loss: 0.0073 - val_mae: 0.0657\n",
      "Epoch 75/250\n",
      "\u001b[1m424/424\u001b[0m \u001b[32m━━━━━━━━━━━━━━━━━━━━\u001b[0m\u001b[37m\u001b[0m \u001b[1m7s\u001b[0m 16ms/step - loss: 0.0089 - mae: 0.0741 - val_loss: 0.0070 - val_mae: 0.0644\n",
      "Epoch 76/250\n",
      "\u001b[1m424/424\u001b[0m \u001b[32m━━━━━━━━━━━━━━━━━━━━\u001b[0m\u001b[37m\u001b[0m \u001b[1m7s\u001b[0m 16ms/step - loss: 0.0087 - mae: 0.0729 - val_loss: 0.0069 - val_mae: 0.0643\n",
      "Epoch 77/250\n",
      "\u001b[1m424/424\u001b[0m \u001b[32m━━━━━━━━━━━━━━━━━━━━\u001b[0m\u001b[37m\u001b[0m \u001b[1m7s\u001b[0m 16ms/step - loss: 0.0085 - mae: 0.0719 - val_loss: 0.0066 - val_mae: 0.0625\n",
      "Epoch 78/250\n",
      "\u001b[1m424/424\u001b[0m \u001b[32m━━━━━━━━━━━━━━━━━━━━\u001b[0m\u001b[37m\u001b[0m \u001b[1m7s\u001b[0m 16ms/step - loss: 0.0086 - mae: 0.0726 - val_loss: 0.0072 - val_mae: 0.0650\n",
      "Epoch 79/250\n",
      "\u001b[1m424/424\u001b[0m \u001b[32m━━━━━━━━━━━━━━━━━━━━\u001b[0m\u001b[37m\u001b[0m \u001b[1m7s\u001b[0m 17ms/step - loss: 0.0082 - mae: 0.0708 - val_loss: 0.0063 - val_mae: 0.0610\n",
      "Epoch 80/250\n",
      "\u001b[1m424/424\u001b[0m \u001b[32m━━━━━━━━━━━━━━━━━━━━\u001b[0m\u001b[37m\u001b[0m \u001b[1m9s\u001b[0m 22ms/step - loss: 0.0078 - mae: 0.0694 - val_loss: 0.0061 - val_mae: 0.0601\n",
      "Epoch 81/250\n",
      "\u001b[1m424/424\u001b[0m \u001b[32m━━━━━━━━━━━━━━━━━━━━\u001b[0m\u001b[37m\u001b[0m \u001b[1m8s\u001b[0m 18ms/step - loss: 0.0081 - mae: 0.0705 - val_loss: 0.0064 - val_mae: 0.0615\n",
      "Epoch 82/250\n",
      "\u001b[1m424/424\u001b[0m \u001b[32m━━━━━━━━━━━━━━━━━━━━\u001b[0m\u001b[37m\u001b[0m \u001b[1m7s\u001b[0m 17ms/step - loss: 0.0080 - mae: 0.0696 - val_loss: 0.0058 - val_mae: 0.0584\n",
      "Epoch 83/250\n",
      "\u001b[1m424/424\u001b[0m \u001b[32m━━━━━━━━━━━━━━━━━━━━\u001b[0m\u001b[37m\u001b[0m \u001b[1m8s\u001b[0m 18ms/step - loss: 0.0078 - mae: 0.0687 - val_loss: 0.0056 - val_mae: 0.0576\n",
      "Epoch 84/250\n",
      "\u001b[1m424/424\u001b[0m \u001b[32m━━━━━━━━━━━━━━━━━━━━\u001b[0m\u001b[37m\u001b[0m \u001b[1m7s\u001b[0m 17ms/step - loss: 0.0075 - mae: 0.0678 - val_loss: 0.0058 - val_mae: 0.0580\n",
      "Epoch 85/250\n",
      "\u001b[1m424/424\u001b[0m \u001b[32m━━━━━━━━━━━━━━━━━━━━\u001b[0m\u001b[37m\u001b[0m \u001b[1m7s\u001b[0m 18ms/step - loss: 0.0076 - mae: 0.0684 - val_loss: 0.0057 - val_mae: 0.0583\n",
      "Epoch 86/250\n",
      "\u001b[1m424/424\u001b[0m \u001b[32m━━━━━━━━━━━━━━━━━━━━\u001b[0m\u001b[37m\u001b[0m \u001b[1m7s\u001b[0m 17ms/step - loss: 0.0073 - mae: 0.0671 - val_loss: 0.0053 - val_mae: 0.0560\n",
      "Epoch 87/250\n",
      "\u001b[1m424/424\u001b[0m \u001b[32m━━━━━━━━━━━━━━━━━━━━\u001b[0m\u001b[37m\u001b[0m \u001b[1m7s\u001b[0m 17ms/step - loss: 0.0073 - mae: 0.0669 - val_loss: 0.0056 - val_mae: 0.0576\n",
      "Epoch 88/250\n",
      "\u001b[1m424/424\u001b[0m \u001b[32m━━━━━━━━━━━━━━━━━━━━\u001b[0m\u001b[37m\u001b[0m \u001b[1m7s\u001b[0m 17ms/step - loss: 0.0070 - mae: 0.0654 - val_loss: 0.0055 - val_mae: 0.0571\n",
      "Epoch 89/250\n",
      "\u001b[1m424/424\u001b[0m \u001b[32m━━━━━━━━━━━━━━━━━━━━\u001b[0m\u001b[37m\u001b[0m \u001b[1m7s\u001b[0m 18ms/step - loss: 0.0071 - mae: 0.0660 - val_loss: 0.0056 - val_mae: 0.0575\n",
      "Epoch 90/250\n",
      "\u001b[1m424/424\u001b[0m \u001b[32m━━━━━━━━━━━━━━━━━━━━\u001b[0m\u001b[37m\u001b[0m \u001b[1m7s\u001b[0m 17ms/step - loss: 0.0067 - mae: 0.0639 - val_loss: 0.0050 - val_mae: 0.0539\n",
      "Epoch 91/250\n",
      "\u001b[1m424/424\u001b[0m \u001b[32m━━━━━━━━━━━━━━━━━━━━\u001b[0m\u001b[37m\u001b[0m \u001b[1m7s\u001b[0m 16ms/step - loss: 0.0070 - mae: 0.0651 - val_loss: 0.0050 - val_mae: 0.0540\n",
      "Epoch 92/250\n",
      "\u001b[1m424/424\u001b[0m \u001b[32m━━━━━━━━━━━━━━━━━━━━\u001b[0m\u001b[37m\u001b[0m \u001b[1m7s\u001b[0m 16ms/step - loss: 0.0070 - mae: 0.0652 - val_loss: 0.0049 - val_mae: 0.0541\n",
      "Epoch 93/250\n",
      "\u001b[1m424/424\u001b[0m \u001b[32m━━━━━━━━━━━━━━━━━━━━\u001b[0m\u001b[37m\u001b[0m \u001b[1m7s\u001b[0m 17ms/step - loss: 0.0064 - mae: 0.0624 - val_loss: 0.0047 - val_mae: 0.0526\n",
      "Epoch 94/250\n",
      "\u001b[1m424/424\u001b[0m \u001b[32m━━━━━━━━━━━━━━━━━━━━\u001b[0m\u001b[37m\u001b[0m \u001b[1m7s\u001b[0m 17ms/step - loss: 0.0065 - mae: 0.0626 - val_loss: 0.0046 - val_mae: 0.0517\n",
      "Epoch 95/250\n",
      "\u001b[1m424/424\u001b[0m \u001b[32m━━━━━━━━━━━━━━━━━━━━\u001b[0m\u001b[37m\u001b[0m \u001b[1m7s\u001b[0m 17ms/step - loss: 0.0062 - mae: 0.0615 - val_loss: 0.0044 - val_mae: 0.0509\n",
      "Epoch 96/250\n",
      "\u001b[1m424/424\u001b[0m \u001b[32m━━━━━━━━━━━━━━━━━━━━\u001b[0m\u001b[37m\u001b[0m \u001b[1m7s\u001b[0m 17ms/step - loss: 0.0062 - mae: 0.0615 - val_loss: 0.0050 - val_mae: 0.0546\n",
      "Epoch 97/250\n",
      "\u001b[1m424/424\u001b[0m \u001b[32m━━━━━━━━━━━━━━━━━━━━\u001b[0m\u001b[37m\u001b[0m \u001b[1m7s\u001b[0m 17ms/step - loss: 0.0063 - mae: 0.0619 - val_loss: 0.0041 - val_mae: 0.0492\n",
      "Epoch 98/250\n",
      "\u001b[1m424/424\u001b[0m \u001b[32m━━━━━━━━━━━━━━━━━━━━\u001b[0m\u001b[37m\u001b[0m \u001b[1m7s\u001b[0m 17ms/step - loss: 0.0062 - mae: 0.0614 - val_loss: 0.0044 - val_mae: 0.0514\n",
      "Epoch 99/250\n",
      "\u001b[1m424/424\u001b[0m \u001b[32m━━━━━━━━━━━━━━━━━━━━\u001b[0m\u001b[37m\u001b[0m \u001b[1m7s\u001b[0m 17ms/step - loss: 0.0060 - mae: 0.0606 - val_loss: 0.0042 - val_mae: 0.0492\n",
      "Epoch 100/250\n",
      "\u001b[1m424/424\u001b[0m \u001b[32m━━━━━━━━━━━━━━━━━━━━\u001b[0m\u001b[37m\u001b[0m \u001b[1m7s\u001b[0m 17ms/step - loss: 0.0060 - mae: 0.0607 - val_loss: 0.0038 - val_mae: 0.0469\n",
      "Epoch 101/250\n",
      "\u001b[1m424/424\u001b[0m \u001b[32m━━━━━━━━━━━━━━━━━━━━\u001b[0m\u001b[37m\u001b[0m \u001b[1m8s\u001b[0m 18ms/step - loss: 0.0056 - mae: 0.0581 - val_loss: 0.0040 - val_mae: 0.0489\n",
      "Epoch 102/250\n",
      "\u001b[1m424/424\u001b[0m \u001b[32m━━━━━━━━━━━━━━━━━━━━\u001b[0m\u001b[37m\u001b[0m \u001b[1m8s\u001b[0m 18ms/step - loss: 0.0057 - mae: 0.0589 - val_loss: 0.0039 - val_mae: 0.0477\n",
      "Epoch 103/250\n",
      "\u001b[1m424/424\u001b[0m \u001b[32m━━━━━━━━━━━━━━━━━━━━\u001b[0m\u001b[37m\u001b[0m \u001b[1m7s\u001b[0m 17ms/step - loss: 0.0059 - mae: 0.0597 - val_loss: 0.0036 - val_mae: 0.0463\n",
      "Epoch 104/250\n",
      "\u001b[1m424/424\u001b[0m \u001b[32m━━━━━━━━━━━━━━━━━━━━\u001b[0m\u001b[37m\u001b[0m \u001b[1m7s\u001b[0m 17ms/step - loss: 0.0054 - mae: 0.0578 - val_loss: 0.0037 - val_mae: 0.0466\n",
      "Epoch 105/250\n",
      "\u001b[1m424/424\u001b[0m \u001b[32m━━━━━━━━━━━━━━━━━━━━\u001b[0m\u001b[37m\u001b[0m \u001b[1m7s\u001b[0m 17ms/step - loss: 0.0057 - mae: 0.0586 - val_loss: 0.0037 - val_mae: 0.0462\n",
      "Epoch 106/250\n",
      "\u001b[1m424/424\u001b[0m \u001b[32m━━━━━━━━━━━━━━━━━━━━\u001b[0m\u001b[37m\u001b[0m \u001b[1m7s\u001b[0m 17ms/step - loss: 0.0054 - mae: 0.0570 - val_loss: 0.0037 - val_mae: 0.0466\n",
      "Epoch 107/250\n",
      "\u001b[1m424/424\u001b[0m \u001b[32m━━━━━━━━━━━━━━━━━━━━\u001b[0m\u001b[37m\u001b[0m \u001b[1m7s\u001b[0m 17ms/step - loss: 0.0055 - mae: 0.0580 - val_loss: 0.0038 - val_mae: 0.0471\n",
      "Epoch 108/250\n",
      "\u001b[1m424/424\u001b[0m \u001b[32m━━━━━━━━━━━━━━━━━━━━\u001b[0m\u001b[37m\u001b[0m \u001b[1m7s\u001b[0m 17ms/step - loss: 0.0052 - mae: 0.0558 - val_loss: 0.0036 - val_mae: 0.0461\n",
      "Epoch 109/250\n",
      "\u001b[1m424/424\u001b[0m \u001b[32m━━━━━━━━━━━━━━━━━━━━\u001b[0m\u001b[37m\u001b[0m \u001b[1m8s\u001b[0m 18ms/step - loss: 0.0053 - mae: 0.0569 - val_loss: 0.0034 - val_mae: 0.0449\n",
      "Epoch 110/250\n",
      "\u001b[1m424/424\u001b[0m \u001b[32m━━━━━━━━━━━━━━━━━━━━\u001b[0m\u001b[37m\u001b[0m \u001b[1m8s\u001b[0m 18ms/step - loss: 0.0051 - mae: 0.0554 - val_loss: 0.0034 - val_mae: 0.0445\n",
      "Epoch 111/250\n",
      "\u001b[1m424/424\u001b[0m \u001b[32m━━━━━━━━━━━━━━━━━━━━\u001b[0m\u001b[37m\u001b[0m \u001b[1m7s\u001b[0m 17ms/step - loss: 0.0051 - mae: 0.0553 - val_loss: 0.0035 - val_mae: 0.0446\n",
      "Epoch 112/250\n",
      "\u001b[1m424/424\u001b[0m \u001b[32m━━━━━━━━━━━━━━━━━━━━\u001b[0m\u001b[37m\u001b[0m \u001b[1m8s\u001b[0m 18ms/step - loss: 0.0050 - mae: 0.0556 - val_loss: 0.0032 - val_mae: 0.0430\n",
      "Epoch 113/250\n",
      "\u001b[1m424/424\u001b[0m \u001b[32m━━━━━━━━━━━━━━━━━━━━\u001b[0m\u001b[37m\u001b[0m \u001b[1m8s\u001b[0m 18ms/step - loss: 0.0050 - mae: 0.0548 - val_loss: 0.0033 - val_mae: 0.0444\n",
      "Epoch 114/250\n",
      "\u001b[1m424/424\u001b[0m \u001b[32m━━━━━━━━━━━━━━━━━━━━\u001b[0m\u001b[37m\u001b[0m \u001b[1m7s\u001b[0m 17ms/step - loss: 0.0047 - mae: 0.0532 - val_loss: 0.0032 - val_mae: 0.0427\n",
      "Epoch 115/250\n",
      "\u001b[1m424/424\u001b[0m \u001b[32m━━━━━━━━━━━━━━━━━━━━\u001b[0m\u001b[37m\u001b[0m \u001b[1m7s\u001b[0m 17ms/step - loss: 0.0049 - mae: 0.0547 - val_loss: 0.0031 - val_mae: 0.0422\n",
      "Epoch 116/250\n",
      "\u001b[1m424/424\u001b[0m \u001b[32m━━━━━━━━━━━━━━━━━━━━\u001b[0m\u001b[37m\u001b[0m \u001b[1m8s\u001b[0m 18ms/step - loss: 0.0048 - mae: 0.0541 - val_loss: 0.0030 - val_mae: 0.0418\n",
      "Epoch 117/250\n",
      "\u001b[1m424/424\u001b[0m \u001b[32m━━━━━━━━━━━━━━━━━━━━\u001b[0m\u001b[37m\u001b[0m \u001b[1m7s\u001b[0m 17ms/step - loss: 0.0047 - mae: 0.0535 - val_loss: 0.0029 - val_mae: 0.0404\n",
      "Epoch 118/250\n",
      "\u001b[1m424/424\u001b[0m \u001b[32m━━━━━━━━━━━━━━━━━━━━\u001b[0m\u001b[37m\u001b[0m \u001b[1m7s\u001b[0m 17ms/step - loss: 0.0047 - mae: 0.0533 - val_loss: 0.0030 - val_mae: 0.0411\n",
      "Epoch 119/250\n",
      "\u001b[1m424/424\u001b[0m \u001b[32m━━━━━━━━━━━━━━━━━━━━\u001b[0m\u001b[37m\u001b[0m \u001b[1m8s\u001b[0m 18ms/step - loss: 0.0046 - mae: 0.0528 - val_loss: 0.0029 - val_mae: 0.0409\n",
      "Epoch 120/250\n",
      "\u001b[1m424/424\u001b[0m \u001b[32m━━━━━━━━━━━━━━━━━━━━\u001b[0m\u001b[37m\u001b[0m \u001b[1m8s\u001b[0m 18ms/step - loss: 0.0046 - mae: 0.0529 - val_loss: 0.0030 - val_mae: 0.0415\n",
      "Epoch 121/250\n",
      "\u001b[1m424/424\u001b[0m \u001b[32m━━━━━━━━━━━━━━━━━━━━\u001b[0m\u001b[37m\u001b[0m \u001b[1m7s\u001b[0m 17ms/step - loss: 0.0045 - mae: 0.0521 - val_loss: 0.0028 - val_mae: 0.0405\n",
      "Epoch 122/250\n",
      "\u001b[1m424/424\u001b[0m \u001b[32m━━━━━━━━━━━━━━━━━━━━\u001b[0m\u001b[37m\u001b[0m \u001b[1m7s\u001b[0m 17ms/step - loss: 0.0045 - mae: 0.0518 - val_loss: 0.0030 - val_mae: 0.0415\n",
      "Epoch 123/250\n",
      "\u001b[1m424/424\u001b[0m \u001b[32m━━━━━━━━━━━━━━━━━━━━\u001b[0m\u001b[37m\u001b[0m \u001b[1m7s\u001b[0m 17ms/step - loss: 0.0046 - mae: 0.0525 - val_loss: 0.0026 - val_mae: 0.0385\n",
      "Epoch 124/250\n",
      "\u001b[1m424/424\u001b[0m \u001b[32m━━━━━━━━━━━━━━━━━━━━\u001b[0m\u001b[37m\u001b[0m \u001b[1m8s\u001b[0m 18ms/step - loss: 0.0044 - mae: 0.0517 - val_loss: 0.0025 - val_mae: 0.0384\n",
      "Epoch 125/250\n",
      "\u001b[1m424/424\u001b[0m \u001b[32m━━━━━━━━━━━━━━━━━━━━\u001b[0m\u001b[37m\u001b[0m \u001b[1m7s\u001b[0m 17ms/step - loss: 0.0042 - mae: 0.0506 - val_loss: 0.0026 - val_mae: 0.0389\n",
      "Epoch 126/250\n",
      "\u001b[1m424/424\u001b[0m \u001b[32m━━━━━━━━━━━━━━━━━━━━\u001b[0m\u001b[37m\u001b[0m \u001b[1m8s\u001b[0m 18ms/step - loss: 0.0041 - mae: 0.0497 - val_loss: 0.0031 - val_mae: 0.0432\n",
      "Epoch 127/250\n",
      "\u001b[1m424/424\u001b[0m \u001b[32m━━━━━━━━━━━━━━━━━━━━\u001b[0m\u001b[37m\u001b[0m \u001b[1m7s\u001b[0m 17ms/step - loss: 0.0043 - mae: 0.0516 - val_loss: 0.0025 - val_mae: 0.0375\n",
      "Epoch 128/250\n",
      "\u001b[1m424/424\u001b[0m \u001b[32m━━━━━━━━━━━━━━━━━━━━\u001b[0m\u001b[37m\u001b[0m \u001b[1m7s\u001b[0m 17ms/step - loss: 0.0041 - mae: 0.0499 - val_loss: 0.0024 - val_mae: 0.0376\n",
      "Epoch 129/250\n",
      "\u001b[1m424/424\u001b[0m \u001b[32m━━━━━━━━━━━━━━━━━━━━\u001b[0m\u001b[37m\u001b[0m \u001b[1m8s\u001b[0m 19ms/step - loss: 0.0041 - mae: 0.0496 - val_loss: 0.0026 - val_mae: 0.0387\n",
      "Epoch 130/250\n",
      "\u001b[1m424/424\u001b[0m \u001b[32m━━━━━━━━━━━━━━━━━━━━\u001b[0m\u001b[37m\u001b[0m \u001b[1m9s\u001b[0m 22ms/step - loss: 0.0040 - mae: 0.0493 - val_loss: 0.0024 - val_mae: 0.0373\n",
      "Epoch 131/250\n",
      "\u001b[1m424/424\u001b[0m \u001b[32m━━━━━━━━━━━━━━━━━━━━\u001b[0m\u001b[37m\u001b[0m \u001b[1m10s\u001b[0m 23ms/step - loss: 0.0041 - mae: 0.0496 - val_loss: 0.0026 - val_mae: 0.0390\n",
      "Epoch 132/250\n",
      "\u001b[1m424/424\u001b[0m \u001b[32m━━━━━━━━━━━━━━━━━━━━\u001b[0m\u001b[37m\u001b[0m \u001b[1m9s\u001b[0m 21ms/step - loss: 0.0039 - mae: 0.0483 - val_loss: 0.0026 - val_mae: 0.0387\n",
      "Epoch 133/250\n",
      "\u001b[1m424/424\u001b[0m \u001b[32m━━━━━━━━━━━━━━━━━━━━\u001b[0m\u001b[37m\u001b[0m \u001b[1m8s\u001b[0m 19ms/step - loss: 0.0040 - mae: 0.0486 - val_loss: 0.0024 - val_mae: 0.0364\n",
      "Epoch 134/250\n",
      "\u001b[1m424/424\u001b[0m \u001b[32m━━━━━━━━━━━━━━━━━━━━\u001b[0m\u001b[37m\u001b[0m \u001b[1m19s\u001b[0m 45ms/step - loss: 0.0039 - mae: 0.0482 - val_loss: 0.0022 - val_mae: 0.0358\n",
      "Epoch 135/250\n",
      "\u001b[1m424/424\u001b[0m \u001b[32m━━━━━━━━━━━━━━━━━━━━\u001b[0m\u001b[37m\u001b[0m \u001b[1m6s\u001b[0m 14ms/step - loss: 0.0040 - mae: 0.0489 - val_loss: 0.0021 - val_mae: 0.0347\n",
      "Epoch 136/250\n",
      "\u001b[1m424/424\u001b[0m \u001b[32m━━━━━━━━━━━━━━━━━━━━\u001b[0m\u001b[37m\u001b[0m \u001b[1m7s\u001b[0m 16ms/step - loss: 0.0038 - mae: 0.0476 - val_loss: 0.0021 - val_mae: 0.0349\n",
      "Epoch 137/250\n",
      "\u001b[1m424/424\u001b[0m \u001b[32m━━━━━━━━━━━━━━━━━━━━\u001b[0m\u001b[37m\u001b[0m \u001b[1m7s\u001b[0m 17ms/step - loss: 0.0039 - mae: 0.0482 - val_loss: 0.0021 - val_mae: 0.0345\n",
      "Epoch 138/250\n",
      "\u001b[1m424/424\u001b[0m \u001b[32m━━━━━━━━━━━━━━━━━━━━\u001b[0m\u001b[37m\u001b[0m \u001b[1m7s\u001b[0m 17ms/step - loss: 0.0039 - mae: 0.0477 - val_loss: 0.0024 - val_mae: 0.0370\n",
      "Epoch 139/250\n",
      "\u001b[1m424/424\u001b[0m \u001b[32m━━━━━━━━━━━━━━━━━━━━\u001b[0m\u001b[37m\u001b[0m \u001b[1m7s\u001b[0m 16ms/step - loss: 0.0039 - mae: 0.0481 - val_loss: 0.0023 - val_mae: 0.0363\n",
      "Epoch 140/250\n",
      "\u001b[1m424/424\u001b[0m \u001b[32m━━━━━━━━━━━━━━━━━━━━\u001b[0m\u001b[37m\u001b[0m \u001b[1m7s\u001b[0m 17ms/step - loss: 0.0037 - mae: 0.0476 - val_loss: 0.0023 - val_mae: 0.0364\n",
      "Epoch 141/250\n",
      "\u001b[1m424/424\u001b[0m \u001b[32m━━━━━━━━━━━━━━━━━━━━\u001b[0m\u001b[37m\u001b[0m \u001b[1m7s\u001b[0m 17ms/step - loss: 0.0037 - mae: 0.0471 - val_loss: 0.0021 - val_mae: 0.0351\n",
      "Epoch 142/250\n",
      "\u001b[1m424/424\u001b[0m \u001b[32m━━━━━━━━━━━━━━━━━━━━\u001b[0m\u001b[37m\u001b[0m \u001b[1m7s\u001b[0m 16ms/step - loss: 0.0036 - mae: 0.0463 - val_loss: 0.0022 - val_mae: 0.0355\n",
      "Epoch 143/250\n",
      "\u001b[1m424/424\u001b[0m \u001b[32m━━━━━━━━━━━━━━━━━━━━\u001b[0m\u001b[37m\u001b[0m \u001b[1m7s\u001b[0m 16ms/step - loss: 0.0035 - mae: 0.0457 - val_loss: 0.0020 - val_mae: 0.0341\n",
      "Epoch 144/250\n",
      "\u001b[1m424/424\u001b[0m \u001b[32m━━━━━━━━━━━━━━━━━━━━\u001b[0m\u001b[37m\u001b[0m \u001b[1m7s\u001b[0m 16ms/step - loss: 0.0034 - mae: 0.0453 - val_loss: 0.0019 - val_mae: 0.0332\n",
      "Epoch 145/250\n",
      "\u001b[1m424/424\u001b[0m \u001b[32m━━━━━━━━━━━━━━━━━━━━\u001b[0m\u001b[37m\u001b[0m \u001b[1m7s\u001b[0m 16ms/step - loss: 0.0035 - mae: 0.0460 - val_loss: 0.0020 - val_mae: 0.0335\n",
      "Epoch 146/250\n",
      "\u001b[1m424/424\u001b[0m \u001b[32m━━━━━━━━━━━━━━━━━━━━\u001b[0m\u001b[37m\u001b[0m \u001b[1m7s\u001b[0m 16ms/step - loss: 0.0035 - mae: 0.0453 - val_loss: 0.0019 - val_mae: 0.0325\n",
      "Epoch 147/250\n",
      "\u001b[1m424/424\u001b[0m \u001b[32m━━━━━━━━━━━━━━━━━━━━\u001b[0m\u001b[37m\u001b[0m \u001b[1m7s\u001b[0m 17ms/step - loss: 0.0035 - mae: 0.0459 - val_loss: 0.0019 - val_mae: 0.0329\n",
      "Epoch 148/250\n",
      "\u001b[1m424/424\u001b[0m \u001b[32m━━━━━━━━━━━━━━━━━━━━\u001b[0m\u001b[37m\u001b[0m \u001b[1m7s\u001b[0m 16ms/step - loss: 0.0033 - mae: 0.0443 - val_loss: 0.0019 - val_mae: 0.0325\n",
      "Epoch 149/250\n",
      "\u001b[1m424/424\u001b[0m \u001b[32m━━━━━━━━━━━━━━━━━━━━\u001b[0m\u001b[37m\u001b[0m \u001b[1m7s\u001b[0m 17ms/step - loss: 0.0033 - mae: 0.0443 - val_loss: 0.0018 - val_mae: 0.0322\n",
      "Epoch 150/250\n",
      "\u001b[1m424/424\u001b[0m \u001b[32m━━━━━━━━━━━━━━━━━━━━\u001b[0m\u001b[37m\u001b[0m \u001b[1m7s\u001b[0m 17ms/step - loss: 0.0034 - mae: 0.0449 - val_loss: 0.0019 - val_mae: 0.0327\n",
      "Epoch 151/250\n",
      "\u001b[1m424/424\u001b[0m \u001b[32m━━━━━━━━━━━━━━━━━━━━\u001b[0m\u001b[37m\u001b[0m \u001b[1m7s\u001b[0m 17ms/step - loss: 0.0033 - mae: 0.0443 - val_loss: 0.0019 - val_mae: 0.0336\n",
      "Epoch 152/250\n",
      "\u001b[1m424/424\u001b[0m \u001b[32m━━━━━━━━━━━━━━━━━━━━\u001b[0m\u001b[37m\u001b[0m \u001b[1m7s\u001b[0m 17ms/step - loss: 0.0034 - mae: 0.0446 - val_loss: 0.0018 - val_mae: 0.0319\n",
      "Epoch 153/250\n",
      "\u001b[1m424/424\u001b[0m \u001b[32m━━━━━━━━━━━━━━━━━━━━\u001b[0m\u001b[37m\u001b[0m \u001b[1m7s\u001b[0m 17ms/step - loss: 0.0032 - mae: 0.0439 - val_loss: 0.0018 - val_mae: 0.0323\n",
      "Epoch 154/250\n",
      "\u001b[1m424/424\u001b[0m \u001b[32m━━━━━━━━━━━━━━━━━━━━\u001b[0m\u001b[37m\u001b[0m \u001b[1m7s\u001b[0m 17ms/step - loss: 0.0032 - mae: 0.0440 - val_loss: 0.0018 - val_mae: 0.0322\n",
      "Epoch 155/250\n",
      "\u001b[1m424/424\u001b[0m \u001b[32m━━━━━━━━━━━━━━━━━━━━\u001b[0m\u001b[37m\u001b[0m \u001b[1m8s\u001b[0m 18ms/step - loss: 0.0033 - mae: 0.0446 - val_loss: 0.0018 - val_mae: 0.0314\n",
      "Epoch 156/250\n",
      "\u001b[1m424/424\u001b[0m \u001b[32m━━━━━━━━━━━━━━━━━━━━\u001b[0m\u001b[37m\u001b[0m \u001b[1m7s\u001b[0m 17ms/step - loss: 0.0031 - mae: 0.0435 - val_loss: 0.0017 - val_mae: 0.0309\n",
      "Epoch 157/250\n",
      "\u001b[1m424/424\u001b[0m \u001b[32m━━━━━━━━━━━━━━━━━━━━\u001b[0m\u001b[37m\u001b[0m \u001b[1m7s\u001b[0m 17ms/step - loss: 0.0030 - mae: 0.0426 - val_loss: 0.0019 - val_mae: 0.0330\n",
      "Epoch 158/250\n",
      "\u001b[1m424/424\u001b[0m \u001b[32m━━━━━━━━━━━━━━━━━━━━\u001b[0m\u001b[37m\u001b[0m \u001b[1m7s\u001b[0m 16ms/step - loss: 0.0031 - mae: 0.0425 - val_loss: 0.0017 - val_mae: 0.0304\n",
      "Epoch 159/250\n",
      "\u001b[1m424/424\u001b[0m \u001b[32m━━━━━━━━━━━━━━━━━━━━\u001b[0m\u001b[37m\u001b[0m \u001b[1m7s\u001b[0m 16ms/step - loss: 0.0031 - mae: 0.0431 - val_loss: 0.0018 - val_mae: 0.0327\n",
      "Epoch 160/250\n",
      "\u001b[1m424/424\u001b[0m \u001b[32m━━━━━━━━━━━━━━━━━━━━\u001b[0m\u001b[37m\u001b[0m \u001b[1m7s\u001b[0m 17ms/step - loss: 0.0030 - mae: 0.0424 - val_loss: 0.0016 - val_mae: 0.0307\n",
      "Epoch 161/250\n",
      "\u001b[1m424/424\u001b[0m \u001b[32m━━━━━━━━━━━━━━━━━━━━\u001b[0m\u001b[37m\u001b[0m \u001b[1m7s\u001b[0m 16ms/step - loss: 0.0030 - mae: 0.0421 - val_loss: 0.0016 - val_mae: 0.0303\n",
      "Epoch 162/250\n",
      "\u001b[1m424/424\u001b[0m \u001b[32m━━━━━━━━━━━━━━━━━━━━\u001b[0m\u001b[37m\u001b[0m \u001b[1m7s\u001b[0m 17ms/step - loss: 0.0030 - mae: 0.0425 - val_loss: 0.0016 - val_mae: 0.0306\n",
      "Epoch 163/250\n",
      "\u001b[1m424/424\u001b[0m \u001b[32m━━━━━━━━━━━━━━━━━━━━\u001b[0m\u001b[37m\u001b[0m \u001b[1m7s\u001b[0m 17ms/step - loss: 0.0031 - mae: 0.0429 - val_loss: 0.0016 - val_mae: 0.0297\n",
      "Epoch 164/250\n",
      "\u001b[1m424/424\u001b[0m \u001b[32m━━━━━━━━━━━━━━━━━━━━\u001b[0m\u001b[37m\u001b[0m \u001b[1m7s\u001b[0m 17ms/step - loss: 0.0027 - mae: 0.0404 - val_loss: 0.0016 - val_mae: 0.0307\n",
      "Epoch 165/250\n",
      "\u001b[1m424/424\u001b[0m \u001b[32m━━━━━━━━━━━━━━━━━━━━\u001b[0m\u001b[37m\u001b[0m \u001b[1m7s\u001b[0m 17ms/step - loss: 0.0030 - mae: 0.0423 - val_loss: 0.0017 - val_mae: 0.0301\n",
      "Epoch 166/250\n",
      "\u001b[1m424/424\u001b[0m \u001b[32m━━━━━━━━━━━━━━━━━━━━\u001b[0m\u001b[37m\u001b[0m \u001b[1m7s\u001b[0m 17ms/step - loss: 0.0029 - mae: 0.0418 - val_loss: 0.0016 - val_mae: 0.0295\n",
      "Epoch 167/250\n",
      "\u001b[1m424/424\u001b[0m \u001b[32m━━━━━━━━━━━━━━━━━━━━\u001b[0m\u001b[37m\u001b[0m \u001b[1m7s\u001b[0m 17ms/step - loss: 0.0027 - mae: 0.0405 - val_loss: 0.0016 - val_mae: 0.0295\n",
      "Epoch 168/250\n",
      "\u001b[1m424/424\u001b[0m \u001b[32m━━━━━━━━━━━━━━━━━━━━\u001b[0m\u001b[37m\u001b[0m \u001b[1m7s\u001b[0m 16ms/step - loss: 0.0029 - mae: 0.0411 - val_loss: 0.0017 - val_mae: 0.0303\n",
      "Epoch 169/250\n",
      "\u001b[1m424/424\u001b[0m \u001b[32m━━━━━━━━━━━━━━━━━━━━\u001b[0m\u001b[37m\u001b[0m \u001b[1m7s\u001b[0m 17ms/step - loss: 0.0029 - mae: 0.0416 - val_loss: 0.0014 - val_mae: 0.0284\n",
      "Epoch 170/250\n",
      "\u001b[1m424/424\u001b[0m \u001b[32m━━━━━━━━━━━━━━━━━━━━\u001b[0m\u001b[37m\u001b[0m \u001b[1m7s\u001b[0m 17ms/step - loss: 0.0028 - mae: 0.0406 - val_loss: 0.0016 - val_mae: 0.0290\n",
      "Epoch 171/250\n",
      "\u001b[1m424/424\u001b[0m \u001b[32m━━━━━━━━━━━━━━━━━━━━\u001b[0m\u001b[37m\u001b[0m \u001b[1m7s\u001b[0m 17ms/step - loss: 0.0027 - mae: 0.0405 - val_loss: 0.0015 - val_mae: 0.0284\n",
      "Epoch 172/250\n",
      "\u001b[1m424/424\u001b[0m \u001b[32m━━━━━━━━━━━━━━━━━━━━\u001b[0m\u001b[37m\u001b[0m \u001b[1m7s\u001b[0m 17ms/step - loss: 0.0027 - mae: 0.0396 - val_loss: 0.0015 - val_mae: 0.0287\n",
      "Epoch 173/250\n",
      "\u001b[1m424/424\u001b[0m \u001b[32m━━━━━━━━━━━━━━━━━━━━\u001b[0m\u001b[37m\u001b[0m \u001b[1m7s\u001b[0m 17ms/step - loss: 0.0027 - mae: 0.0401 - val_loss: 0.0015 - val_mae: 0.0285\n",
      "Epoch 174/250\n",
      "\u001b[1m424/424\u001b[0m \u001b[32m━━━━━━━━━━━━━━━━━━━━\u001b[0m\u001b[37m\u001b[0m \u001b[1m7s\u001b[0m 16ms/step - loss: 0.0028 - mae: 0.0403 - val_loss: 0.0014 - val_mae: 0.0282\n",
      "Epoch 175/250\n",
      "\u001b[1m424/424\u001b[0m \u001b[32m━━━━━━━━━━━━━━━━━━━━\u001b[0m\u001b[37m\u001b[0m \u001b[1m7s\u001b[0m 17ms/step - loss: 0.0027 - mae: 0.0406 - val_loss: 0.0015 - val_mae: 0.0287\n",
      "Epoch 176/250\n",
      "\u001b[1m424/424\u001b[0m \u001b[32m━━━━━━━━━━━━━━━━━━━━\u001b[0m\u001b[37m\u001b[0m \u001b[1m7s\u001b[0m 17ms/step - loss: 0.0027 - mae: 0.0402 - val_loss: 0.0015 - val_mae: 0.0293\n",
      "Epoch 177/250\n",
      "\u001b[1m424/424\u001b[0m \u001b[32m━━━━━━━━━━━━━━━━━━━━\u001b[0m\u001b[37m\u001b[0m \u001b[1m7s\u001b[0m 17ms/step - loss: 0.0026 - mae: 0.0395 - val_loss: 0.0015 - val_mae: 0.0284\n",
      "Epoch 178/250\n",
      "\u001b[1m424/424\u001b[0m \u001b[32m━━━━━━━━━━━━━━━━━━━━\u001b[0m\u001b[37m\u001b[0m \u001b[1m7s\u001b[0m 17ms/step - loss: 0.0025 - mae: 0.0388 - val_loss: 0.0014 - val_mae: 0.0282\n",
      "Epoch 179/250\n",
      "\u001b[1m424/424\u001b[0m \u001b[32m━━━━━━━━━━━━━━━━━━━━\u001b[0m\u001b[37m\u001b[0m \u001b[1m7s\u001b[0m 17ms/step - loss: 0.0027 - mae: 0.0399 - val_loss: 0.0015 - val_mae: 0.0285\n",
      "Epoch 180/250\n",
      "\u001b[1m424/424\u001b[0m \u001b[32m━━━━━━━━━━━━━━━━━━━━\u001b[0m\u001b[37m\u001b[0m \u001b[1m7s\u001b[0m 17ms/step - loss: 0.0026 - mae: 0.0391 - val_loss: 0.0014 - val_mae: 0.0275\n",
      "Epoch 181/250\n",
      "\u001b[1m424/424\u001b[0m \u001b[32m━━━━━━━━━━━━━━━━━━━━\u001b[0m\u001b[37m\u001b[0m \u001b[1m7s\u001b[0m 16ms/step - loss: 0.0026 - mae: 0.0389 - val_loss: 0.0016 - val_mae: 0.0295\n",
      "Epoch 182/250\n",
      "\u001b[1m424/424\u001b[0m \u001b[32m━━━━━━━━━━━━━━━━━━━━\u001b[0m\u001b[37m\u001b[0m \u001b[1m7s\u001b[0m 17ms/step - loss: 0.0026 - mae: 0.0388 - val_loss: 0.0016 - val_mae: 0.0296\n",
      "Epoch 183/250\n",
      "\u001b[1m424/424\u001b[0m \u001b[32m━━━━━━━━━━━━━━━━━━━━\u001b[0m\u001b[37m\u001b[0m \u001b[1m7s\u001b[0m 17ms/step - loss: 0.0024 - mae: 0.0384 - val_loss: 0.0014 - val_mae: 0.0279\n",
      "Epoch 184/250\n",
      "\u001b[1m424/424\u001b[0m \u001b[32m━━━━━━━━━━━━━━━━━━━━\u001b[0m\u001b[37m\u001b[0m \u001b[1m7s\u001b[0m 16ms/step - loss: 0.0025 - mae: 0.0389 - val_loss: 0.0014 - val_mae: 0.0274\n",
      "Epoch 185/250\n",
      "\u001b[1m424/424\u001b[0m \u001b[32m━━━━━━━━━━━━━━━━━━━━\u001b[0m\u001b[37m\u001b[0m \u001b[1m7s\u001b[0m 16ms/step - loss: 0.0025 - mae: 0.0384 - val_loss: 0.0013 - val_mae: 0.0275\n",
      "Epoch 186/250\n",
      "\u001b[1m424/424\u001b[0m \u001b[32m━━━━━━━━━━━━━━━━━━━━\u001b[0m\u001b[37m\u001b[0m \u001b[1m7s\u001b[0m 17ms/step - loss: 0.0024 - mae: 0.0380 - val_loss: 0.0013 - val_mae: 0.0262\n",
      "Epoch 187/250\n",
      "\u001b[1m424/424\u001b[0m \u001b[32m━━━━━━━━━━━━━━━━━━━━\u001b[0m\u001b[37m\u001b[0m \u001b[1m7s\u001b[0m 16ms/step - loss: 0.0024 - mae: 0.0380 - val_loss: 0.0015 - val_mae: 0.0288\n",
      "Epoch 188/250\n",
      "\u001b[1m424/424\u001b[0m \u001b[32m━━━━━━━━━━━━━━━━━━━━\u001b[0m\u001b[37m\u001b[0m \u001b[1m7s\u001b[0m 17ms/step - loss: 0.0024 - mae: 0.0381 - val_loss: 0.0014 - val_mae: 0.0273\n",
      "Epoch 189/250\n",
      "\u001b[1m424/424\u001b[0m \u001b[32m━━━━━━━━━━━━━━━━━━━━\u001b[0m\u001b[37m\u001b[0m \u001b[1m7s\u001b[0m 17ms/step - loss: 0.0024 - mae: 0.0381 - val_loss: 0.0014 - val_mae: 0.0270\n",
      "Epoch 190/250\n",
      "\u001b[1m424/424\u001b[0m \u001b[32m━━━━━━━━━━━━━━━━━━━━\u001b[0m\u001b[37m\u001b[0m \u001b[1m9s\u001b[0m 20ms/step - loss: 0.0023 - mae: 0.0371 - val_loss: 0.0013 - val_mae: 0.0262\n",
      "Epoch 191/250\n",
      "\u001b[1m424/424\u001b[0m \u001b[32m━━━━━━━━━━━━━━━━━━━━\u001b[0m\u001b[37m\u001b[0m \u001b[1m9s\u001b[0m 21ms/step - loss: 0.0024 - mae: 0.0374 - val_loss: 0.0013 - val_mae: 0.0255\n",
      "Epoch 192/250\n",
      "\u001b[1m424/424\u001b[0m \u001b[32m━━━━━━━━━━━━━━━━━━━━\u001b[0m\u001b[37m\u001b[0m \u001b[1m8s\u001b[0m 19ms/step - loss: 0.0024 - mae: 0.0376 - val_loss: 0.0012 - val_mae: 0.0260\n",
      "Epoch 193/250\n",
      "\u001b[1m424/424\u001b[0m \u001b[32m━━━━━━━━━━━━━━━━━━━━\u001b[0m\u001b[37m\u001b[0m \u001b[1m8s\u001b[0m 19ms/step - loss: 0.0023 - mae: 0.0367 - val_loss: 0.0013 - val_mae: 0.0271\n",
      "Epoch 194/250\n",
      "\u001b[1m424/424\u001b[0m \u001b[32m━━━━━━━━━━━━━━━━━━━━\u001b[0m\u001b[37m\u001b[0m \u001b[1m8s\u001b[0m 20ms/step - loss: 0.0024 - mae: 0.0377 - val_loss: 0.0011 - val_mae: 0.0251\n",
      "Epoch 195/250\n",
      "\u001b[1m424/424\u001b[0m \u001b[32m━━━━━━━━━━━━━━━━━━━━\u001b[0m\u001b[37m\u001b[0m \u001b[1m8s\u001b[0m 20ms/step - loss: 0.0022 - mae: 0.0364 - val_loss: 0.0012 - val_mae: 0.0255\n",
      "Epoch 196/250\n",
      "\u001b[1m424/424\u001b[0m \u001b[32m━━━━━━━━━━━━━━━━━━━━\u001b[0m\u001b[37m\u001b[0m \u001b[1m8s\u001b[0m 20ms/step - loss: 0.0023 - mae: 0.0369 - val_loss: 0.0012 - val_mae: 0.0253\n",
      "Epoch 197/250\n",
      "\u001b[1m424/424\u001b[0m \u001b[32m━━━━━━━━━━━━━━━━━━━━\u001b[0m\u001b[37m\u001b[0m \u001b[1m9s\u001b[0m 20ms/step - loss: 0.0022 - mae: 0.0366 - val_loss: 0.0012 - val_mae: 0.0265\n",
      "Epoch 198/250\n",
      "\u001b[1m424/424\u001b[0m \u001b[32m━━━━━━━━━━━━━━━━━━━━\u001b[0m\u001b[37m\u001b[0m \u001b[1m9s\u001b[0m 20ms/step - loss: 0.0023 - mae: 0.0367 - val_loss: 0.0012 - val_mae: 0.0256\n",
      "Epoch 199/250\n",
      "\u001b[1m424/424\u001b[0m \u001b[32m━━━━━━━━━━━━━━━━━━━━\u001b[0m\u001b[37m\u001b[0m \u001b[1m8s\u001b[0m 19ms/step - loss: 0.0023 - mae: 0.0367 - val_loss: 0.0012 - val_mae: 0.0253\n",
      "Epoch 200/250\n",
      "\u001b[1m424/424\u001b[0m \u001b[32m━━━━━━━━━━━━━━━━━━━━\u001b[0m\u001b[37m\u001b[0m \u001b[1m8s\u001b[0m 19ms/step - loss: 0.0023 - mae: 0.0368 - val_loss: 0.0012 - val_mae: 0.0261\n",
      "Epoch 201/250\n",
      "\u001b[1m424/424\u001b[0m \u001b[32m━━━━━━━━━━━━━━━━━━━━\u001b[0m\u001b[37m\u001b[0m \u001b[1m8s\u001b[0m 20ms/step - loss: 0.0023 - mae: 0.0369 - val_loss: 0.0012 - val_mae: 0.0253\n",
      "Epoch 202/250\n",
      "\u001b[1m424/424\u001b[0m \u001b[32m━━━━━━━━━━━━━━━━━━━━\u001b[0m\u001b[37m\u001b[0m \u001b[1m8s\u001b[0m 20ms/step - loss: 0.0023 - mae: 0.0369 - val_loss: 0.0014 - val_mae: 0.0264\n",
      "Epoch 203/250\n",
      "\u001b[1m424/424\u001b[0m \u001b[32m━━━━━━━━━━━━━━━━━━━━\u001b[0m\u001b[37m\u001b[0m \u001b[1m8s\u001b[0m 19ms/step - loss: 0.0021 - mae: 0.0356 - val_loss: 0.0012 - val_mae: 0.0259\n",
      "Epoch 204/250\n",
      "\u001b[1m424/424\u001b[0m \u001b[32m━━━━━━━━━━━━━━━━━━━━\u001b[0m\u001b[37m\u001b[0m \u001b[1m8s\u001b[0m 20ms/step - loss: 0.0022 - mae: 0.0360 - val_loss: 0.0011 - val_mae: 0.0242\n",
      "Epoch 205/250\n",
      "\u001b[1m424/424\u001b[0m \u001b[32m━━━━━━━━━━━━━━━━━━━━\u001b[0m\u001b[37m\u001b[0m \u001b[1m9s\u001b[0m 20ms/step - loss: 0.0021 - mae: 0.0355 - val_loss: 0.0011 - val_mae: 0.0249\n",
      "Epoch 206/250\n",
      "\u001b[1m424/424\u001b[0m \u001b[32m━━━━━━━━━━━━━━━━━━━━\u001b[0m\u001b[37m\u001b[0m \u001b[1m8s\u001b[0m 19ms/step - loss: 0.0022 - mae: 0.0357 - val_loss: 0.0011 - val_mae: 0.0245\n",
      "Epoch 207/250\n",
      "\u001b[1m424/424\u001b[0m \u001b[32m━━━━━━━━━━━━━━━━━━━━\u001b[0m\u001b[37m\u001b[0m \u001b[1m8s\u001b[0m 19ms/step - loss: 0.0020 - mae: 0.0344 - val_loss: 0.0012 - val_mae: 0.0256\n",
      "Epoch 208/250\n",
      "\u001b[1m424/424\u001b[0m \u001b[32m━━━━━━━━━━━━━━━━━━━━\u001b[0m\u001b[37m\u001b[0m \u001b[1m8s\u001b[0m 20ms/step - loss: 0.0021 - mae: 0.0356 - val_loss: 0.0011 - val_mae: 0.0246\n",
      "Epoch 209/250\n",
      "\u001b[1m424/424\u001b[0m \u001b[32m━━━━━━━━━━━━━━━━━━━━\u001b[0m\u001b[37m\u001b[0m \u001b[1m8s\u001b[0m 20ms/step - loss: 0.0021 - mae: 0.0349 - val_loss: 0.0012 - val_mae: 0.0247\n",
      "Epoch 210/250\n",
      "\u001b[1m424/424\u001b[0m \u001b[32m━━━━━━━━━━━━━━━━━━━━\u001b[0m\u001b[37m\u001b[0m \u001b[1m9s\u001b[0m 20ms/step - loss: 0.0021 - mae: 0.0352 - val_loss: 9.8864e-04 - val_mae: 0.0235\n",
      "Epoch 211/250\n",
      "\u001b[1m424/424\u001b[0m \u001b[32m━━━━━━━━━━━━━━━━━━━━\u001b[0m\u001b[37m\u001b[0m \u001b[1m8s\u001b[0m 20ms/step - loss: 0.0021 - mae: 0.0351 - val_loss: 0.0010 - val_mae: 0.0234\n",
      "Epoch 212/250\n",
      "\u001b[1m424/424\u001b[0m \u001b[32m━━━━━━━━━━━━━━━━━━━━\u001b[0m\u001b[37m\u001b[0m \u001b[1m8s\u001b[0m 19ms/step - loss: 0.0020 - mae: 0.0351 - val_loss: 0.0011 - val_mae: 0.0246\n",
      "Epoch 213/250\n",
      "\u001b[1m424/424\u001b[0m \u001b[32m━━━━━━━━━━━━━━━━━━━━\u001b[0m\u001b[37m\u001b[0m \u001b[1m8s\u001b[0m 19ms/step - loss: 0.0019 - mae: 0.0338 - val_loss: 9.9101e-04 - val_mae: 0.0231\n",
      "Epoch 214/250\n",
      "\u001b[1m424/424\u001b[0m \u001b[32m━━━━━━━━━━━━━━━━━━━━\u001b[0m\u001b[37m\u001b[0m \u001b[1m8s\u001b[0m 19ms/step - loss: 0.0020 - mae: 0.0341 - val_loss: 0.0011 - val_mae: 0.0232\n",
      "Epoch 215/250\n",
      "\u001b[1m424/424\u001b[0m \u001b[32m━━━━━━━━━━━━━━━━━━━━\u001b[0m\u001b[37m\u001b[0m \u001b[1m8s\u001b[0m 19ms/step - loss: 0.0020 - mae: 0.0345 - val_loss: 0.0012 - val_mae: 0.0246\n",
      "Epoch 216/250\n",
      "\u001b[1m424/424\u001b[0m \u001b[32m━━━━━━━━━━━━━━━━━━━━\u001b[0m\u001b[37m\u001b[0m \u001b[1m8s\u001b[0m 19ms/step - loss: 0.0021 - mae: 0.0350 - val_loss: 0.0011 - val_mae: 0.0244\n",
      "Epoch 217/250\n",
      "\u001b[1m424/424\u001b[0m \u001b[32m━━━━━━━━━━━━━━━━━━━━\u001b[0m\u001b[37m\u001b[0m \u001b[1m8s\u001b[0m 19ms/step - loss: 0.0021 - mae: 0.0347 - val_loss: 0.0010 - val_mae: 0.0230\n",
      "Epoch 218/250\n",
      "\u001b[1m424/424\u001b[0m \u001b[32m━━━━━━━━━━━━━━━━━━━━\u001b[0m\u001b[37m\u001b[0m \u001b[1m8s\u001b[0m 19ms/step - loss: 0.0020 - mae: 0.0343 - val_loss: 0.0011 - val_mae: 0.0242\n",
      "Epoch 219/250\n",
      "\u001b[1m424/424\u001b[0m \u001b[32m━━━━━━━━━━━━━━━━━━━━\u001b[0m\u001b[37m\u001b[0m \u001b[1m8s\u001b[0m 18ms/step - loss: 0.0020 - mae: 0.0340 - val_loss: 0.0011 - val_mae: 0.0239\n",
      "Epoch 220/250\n",
      "\u001b[1m424/424\u001b[0m \u001b[32m━━━━━━━━━━━━━━━━━━━━\u001b[0m\u001b[37m\u001b[0m \u001b[1m8s\u001b[0m 19ms/step - loss: 0.0020 - mae: 0.0339 - val_loss: 0.0011 - val_mae: 0.0238\n",
      "Epoch 221/250\n",
      "\u001b[1m424/424\u001b[0m \u001b[32m━━━━━━━━━━━━━━━━━━━━\u001b[0m\u001b[37m\u001b[0m \u001b[1m8s\u001b[0m 19ms/step - loss: 0.0019 - mae: 0.0340 - val_loss: 0.0011 - val_mae: 0.0242\n",
      "Epoch 222/250\n",
      "\u001b[1m424/424\u001b[0m \u001b[32m━━━━━━━━━━━━━━━━━━━━\u001b[0m\u001b[37m\u001b[0m \u001b[1m8s\u001b[0m 19ms/step - loss: 0.0019 - mae: 0.0336 - val_loss: 0.0011 - val_mae: 0.0242\n",
      "Epoch 223/250\n",
      "\u001b[1m424/424\u001b[0m \u001b[32m━━━━━━━━━━━━━━━━━━━━\u001b[0m\u001b[37m\u001b[0m \u001b[1m8s\u001b[0m 19ms/step - loss: 0.0019 - mae: 0.0337 - val_loss: 0.0011 - val_mae: 0.0241\n",
      "Epoch 224/250\n",
      "\u001b[1m424/424\u001b[0m \u001b[32m━━━━━━━━━━━━━━━━━━━━\u001b[0m\u001b[37m\u001b[0m \u001b[1m8s\u001b[0m 19ms/step - loss: 0.0019 - mae: 0.0332 - val_loss: 9.4612e-04 - val_mae: 0.0225\n",
      "Epoch 225/250\n",
      "\u001b[1m424/424\u001b[0m \u001b[32m━━━━━━━━━━━━━━━━━━━━\u001b[0m\u001b[37m\u001b[0m \u001b[1m8s\u001b[0m 19ms/step - loss: 0.0019 - mae: 0.0334 - val_loss: 0.0010 - val_mae: 0.0234\n",
      "Epoch 226/250\n",
      "\u001b[1m424/424\u001b[0m \u001b[32m━━━━━━━━━━━━━━━━━━━━\u001b[0m\u001b[37m\u001b[0m \u001b[1m8s\u001b[0m 19ms/step - loss: 0.0018 - mae: 0.0329 - val_loss: 9.8499e-04 - val_mae: 0.0229\n",
      "Epoch 227/250\n",
      "\u001b[1m424/424\u001b[0m \u001b[32m━━━━━━━━━━━━━━━━━━━━\u001b[0m\u001b[37m\u001b[0m \u001b[1m8s\u001b[0m 19ms/step - loss: 0.0019 - mae: 0.0329 - val_loss: 0.0010 - val_mae: 0.0239\n",
      "Epoch 228/250\n",
      "\u001b[1m424/424\u001b[0m \u001b[32m━━━━━━━━━━━━━━━━━━━━\u001b[0m\u001b[37m\u001b[0m \u001b[1m8s\u001b[0m 19ms/step - loss: 0.0018 - mae: 0.0327 - val_loss: 8.9056e-04 - val_mae: 0.0219\n",
      "Epoch 229/250\n",
      "\u001b[1m424/424\u001b[0m \u001b[32m━━━━━━━━━━━━━━━━━━━━\u001b[0m\u001b[37m\u001b[0m \u001b[1m8s\u001b[0m 19ms/step - loss: 0.0017 - mae: 0.0319 - val_loss: 9.5604e-04 - val_mae: 0.0223\n",
      "Epoch 230/250\n",
      "\u001b[1m424/424\u001b[0m \u001b[32m━━━━━━━━━━━━━━━━━━━━\u001b[0m\u001b[37m\u001b[0m \u001b[1m8s\u001b[0m 20ms/step - loss: 0.0019 - mae: 0.0332 - val_loss: 0.0011 - val_mae: 0.0235\n",
      "Epoch 231/250\n",
      "\u001b[1m424/424\u001b[0m \u001b[32m━━━━━━━━━━━━━━━━━━━━\u001b[0m\u001b[37m\u001b[0m \u001b[1m8s\u001b[0m 19ms/step - loss: 0.0018 - mae: 0.0322 - val_loss: 0.0010 - val_mae: 0.0235\n",
      "Epoch 232/250\n",
      "\u001b[1m424/424\u001b[0m \u001b[32m━━━━━━━━━━━━━━━━━━━━\u001b[0m\u001b[37m\u001b[0m \u001b[1m9s\u001b[0m 20ms/step - loss: 0.0018 - mae: 0.0329 - val_loss: 9.1539e-04 - val_mae: 0.0218\n",
      "Epoch 233/250\n",
      "\u001b[1m424/424\u001b[0m \u001b[32m━━━━━━━━━━━━━━━━━━━━\u001b[0m\u001b[37m\u001b[0m \u001b[1m8s\u001b[0m 19ms/step - loss: 0.0017 - mae: 0.0321 - val_loss: 9.0225e-04 - val_mae: 0.0221\n",
      "Epoch 234/250\n",
      "\u001b[1m424/424\u001b[0m \u001b[32m━━━━━━━━━━━━━━━━━━━━\u001b[0m\u001b[37m\u001b[0m \u001b[1m8s\u001b[0m 19ms/step - loss: 0.0017 - mae: 0.0321 - val_loss: 9.3528e-04 - val_mae: 0.0226\n",
      "Epoch 235/250\n",
      "\u001b[1m424/424\u001b[0m \u001b[32m━━━━━━━━━━━━━━━━━━━━\u001b[0m\u001b[37m\u001b[0m \u001b[1m8s\u001b[0m 19ms/step - loss: 0.0018 - mae: 0.0326 - val_loss: 0.0011 - val_mae: 0.0243\n",
      "Epoch 236/250\n",
      "\u001b[1m424/424\u001b[0m \u001b[32m━━━━━━━━━━━━━━━━━━━━\u001b[0m\u001b[37m\u001b[0m \u001b[1m8s\u001b[0m 19ms/step - loss: 0.0018 - mae: 0.0329 - val_loss: 8.6688e-04 - val_mae: 0.0210\n",
      "Epoch 237/250\n",
      "\u001b[1m424/424\u001b[0m \u001b[32m━━━━━━━━━━━━━━━━━━━━\u001b[0m\u001b[37m\u001b[0m \u001b[1m8s\u001b[0m 20ms/step - loss: 0.0018 - mae: 0.0322 - val_loss: 8.7108e-04 - val_mae: 0.0215\n",
      "Epoch 238/250\n",
      "\u001b[1m424/424\u001b[0m \u001b[32m━━━━━━━━━━━━━━━━━━━━\u001b[0m\u001b[37m\u001b[0m \u001b[1m8s\u001b[0m 20ms/step - loss: 0.0017 - mae: 0.0322 - val_loss: 8.7122e-04 - val_mae: 0.0215\n",
      "Epoch 239/250\n",
      "\u001b[1m424/424\u001b[0m \u001b[32m━━━━━━━━━━━━━━━━━━━━\u001b[0m\u001b[37m\u001b[0m \u001b[1m8s\u001b[0m 20ms/step - loss: 0.0018 - mae: 0.0323 - val_loss: 8.2277e-04 - val_mae: 0.0208\n",
      "Epoch 240/250\n",
      "\u001b[1m424/424\u001b[0m \u001b[32m━━━━━━━━━━━━━━━━━━━━\u001b[0m\u001b[37m\u001b[0m \u001b[1m8s\u001b[0m 19ms/step - loss: 0.0017 - mae: 0.0314 - val_loss: 8.9332e-04 - val_mae: 0.0216\n",
      "Epoch 241/250\n",
      "\u001b[1m424/424\u001b[0m \u001b[32m━━━━━━━━━━━━━━━━━━━━\u001b[0m\u001b[37m\u001b[0m \u001b[1m8s\u001b[0m 19ms/step - loss: 0.0017 - mae: 0.0318 - val_loss: 8.9797e-04 - val_mae: 0.0215\n",
      "Epoch 242/250\n",
      "\u001b[1m424/424\u001b[0m \u001b[32m━━━━━━━━━━━━━━━━━━━━\u001b[0m\u001b[37m\u001b[0m \u001b[1m9s\u001b[0m 20ms/step - loss: 0.0017 - mae: 0.0314 - val_loss: 9.7010e-04 - val_mae: 0.0224\n",
      "Epoch 243/250\n",
      "\u001b[1m424/424\u001b[0m \u001b[32m━━━━━━━━━━━━━━━━━━━━\u001b[0m\u001b[37m\u001b[0m \u001b[1m8s\u001b[0m 19ms/step - loss: 0.0017 - mae: 0.0317 - val_loss: 9.4556e-04 - val_mae: 0.0223\n",
      "Epoch 244/250\n",
      "\u001b[1m424/424\u001b[0m \u001b[32m━━━━━━━━━━━━━━━━━━━━\u001b[0m\u001b[37m\u001b[0m \u001b[1m8s\u001b[0m 19ms/step - loss: 0.0017 - mae: 0.0315 - val_loss: 9.9913e-04 - val_mae: 0.0222\n",
      "Epoch 245/250\n",
      "\u001b[1m424/424\u001b[0m \u001b[32m━━━━━━━━━━━━━━━━━━━━\u001b[0m\u001b[37m\u001b[0m \u001b[1m8s\u001b[0m 19ms/step - loss: 0.0017 - mae: 0.0319 - val_loss: 8.2680e-04 - val_mae: 0.0211\n",
      "Epoch 246/250\n",
      "\u001b[1m424/424\u001b[0m \u001b[32m━━━━━━━━━━━━━━━━━━━━\u001b[0m\u001b[37m\u001b[0m \u001b[1m8s\u001b[0m 20ms/step - loss: 0.0017 - mae: 0.0316 - val_loss: 9.1244e-04 - val_mae: 0.0224\n",
      "Epoch 247/250\n",
      "\u001b[1m424/424\u001b[0m \u001b[32m━━━━━━━━━━━━━━━━━━━━\u001b[0m\u001b[37m\u001b[0m \u001b[1m8s\u001b[0m 19ms/step - loss: 0.0017 - mae: 0.0317 - val_loss: 8.4470e-04 - val_mae: 0.0212\n",
      "Epoch 248/250\n",
      "\u001b[1m424/424\u001b[0m \u001b[32m━━━━━━━━━━━━━━━━━━━━\u001b[0m\u001b[37m\u001b[0m \u001b[1m8s\u001b[0m 19ms/step - loss: 0.0017 - mae: 0.0312 - val_loss: 9.1432e-04 - val_mae: 0.0219\n",
      "Epoch 249/250\n",
      "\u001b[1m424/424\u001b[0m \u001b[32m━━━━━━━━━━━━━━━━━━━━\u001b[0m\u001b[37m\u001b[0m \u001b[1m8s\u001b[0m 19ms/step - loss: 0.0016 - mae: 0.0305 - val_loss: 7.8570e-04 - val_mae: 0.0203\n",
      "Epoch 250/250\n",
      "\u001b[1m424/424\u001b[0m \u001b[32m━━━━━━━━━━━━━━━━━━━━\u001b[0m\u001b[37m\u001b[0m \u001b[1m8s\u001b[0m 20ms/step - loss: 0.0016 - mae: 0.0311 - val_loss: 8.1222e-04 - val_mae: 0.0209\n"
     ]
    }
   ],
   "source": [
    "seq_len=20 \n",
    "d_model = 16 \n",
    "\n",
    "seq_input = Input(shape=(seq_len,4), name='seq_input') \n",
    "\n",
    "x = Dense(d_model, use_bias=False)(seq_input)  # (Projection)\n",
    "position_embed = Embedding(input_dim=seq_len, output_dim=d_model)\n",
    "\n",
    "def add_positional_encoding(t):\n",
    "    pe = position_embed(tf.range(seq_len))    \n",
    "    return t + tf.expand_dims(pe, 0)\n",
    "\n",
    "x = Lambda(add_positional_encoding, name='add_pos')(x)      \n",
    "\n",
    "attention_output = MultiHeadAttention(num_heads=2, key_dim=d_model // 2, dropout=0.1, name='self_attn')(x, x)   \n",
    "\n",
    "x = Add(name='attn_res')([x, attention_output])\n",
    "x = LayerNormalization(name='attn_ln')(x)     \n",
    "\n",
    "x1 = Bidirectional(LSTM(64, return_sequences=True))(x)\n",
    "x1 = BatchNormalization()(x1)\n",
    "x1 = Dropout(0.2)(x1)\n",
    "\n",
    "x1 = Bidirectional(LSTM(128, return_sequences=True))(x1)\n",
    "x1 = GlobalMaxPooling1D()(x1)\n",
    "x1 = BatchNormalization()(x1)\n",
    "\n",
    "features_input = Input(shape=(X_num_train.shape[1],), name='num_input')\n",
    "x2 = Dense(64, activation='relu', kernel_initializer='he_normal')(features_input)\n",
    "x2 = BatchNormalization()(x2)\n",
    "\n",
    "all_input = concatenate([x1, x2])\n",
    "z = Dense(128, activation='relu', kernel_initializer='he_normal')(all_input)\n",
    "z = Dropout(0.2)(z)\n",
    "z = Dense(64, activation='relu', kernel_initializer='he_normal')(z)\n",
    "z = Dense(64, activation='relu', kernel_initializer='he_normal')(z)\n",
    "z = Dense(1, activation='linear')(z)\n",
    "\n",
    "optimizer = Adam(learning_rate=1e-4, clipnorm=1.0)\n",
    "model = Model(inputs=[seq_input, features_input], outputs=z)\n",
    "model.compile(optimizer=optimizer, loss='mse', metrics=['mae'])\n",
    "\n",
    "history = model.fit(\n",
    "    {'seq_input': X_seq_train, 'num_input': X_num_train},\n",
    "    y_train,\n",
    "    validation_data=({'seq_input': X_seq_test, 'num_input': X_num_test}, y_test),\n",
    "    epochs= 250,\n",
    "    batch_size= 32\n",
    ")"
   ]
  },
  {
   "cell_type": "code",
   "execution_count": 31,
   "id": "f026176e",
   "metadata": {},
   "outputs": [
    {
     "name": "stdout",
     "output_type": "stream",
     "text": [
      "\u001b[1m106/106\u001b[0m \u001b[32m━━━━━━━━━━━━━━━━━━━━\u001b[0m\u001b[37m\u001b[0m \u001b[1m1s\u001b[0m 5ms/step\n"
     ]
    }
   ],
   "source": [
    "y_pred= model.predict({'seq_input': X_seq_test, 'num_input': X_num_test})\n",
    "y_pred = y_pred.ravel()\n",
    "y_test = y_test.ravel()"
   ]
  },
  {
   "cell_type": "code",
   "execution_count": 32,
   "id": "4d0bff7e",
   "metadata": {},
   "outputs": [
    {
     "name": "stdout",
     "output_type": "stream",
     "text": [
      "MLP Evaluation Metrics:\n",
      "  MSE      : 0.001\n",
      "  RMSE     : 0.028\n",
      "  MAE      : 0.021\n",
      "  R2 Score : 0.972\n",
      "  Spearman : 0.981\n"
     ]
    }
   ],
   "source": [
    "mse = mean_squared_error(y_test, y_pred)\n",
    "rmse = np.sqrt(mse)\n",
    "mae = mean_absolute_error(y_test, y_pred)\n",
    "r2 = r2_score(y_test, y_pred)\n",
    "spearman_corr, _ = spearmanr(y_test, y_pred)\n",
    "\n",
    "metrics = {\n",
    "    'MSE': mse,\n",
    "    'RMSE': rmse,\n",
    "    'MAE': mae,\n",
    "    'R2': r2,\n",
    "    'Spearman': spearman_corr\n",
    "}\n",
    "\n",
    "print(\"MLP Evaluation Metrics:\")\n",
    "print(f\"  MSE      : {round(mse,3)}\")\n",
    "print(f\"  RMSE     : {round(rmse,3)}\")\n",
    "print(f\"  MAE      : {round(mae,3)}\")\n",
    "print(f\"  R2 Score : {round(r2,3)}\")\n",
    "print(f\"  Spearman : {round(spearman_corr,3)}\")"
   ]
  },
  {
   "cell_type": "code",
   "execution_count": 33,
   "id": "8fccfd99",
   "metadata": {},
   "outputs": [
    {
     "data": {
      "text/plain": [
       "<matplotlib.legend.Legend at 0x21404cd3f90>"
      ]
     },
     "execution_count": 33,
     "metadata": {},
     "output_type": "execute_result"
    },
    {
     "data": {
      "image/png": "[encoded data removed]",
      "text/plain": [
       "<Figure size 640x480 with 1 Axes>"
      ]
     },
     "metadata": {},
     "output_type": "display_data"
    },
    {
     "data": {
      "image/png": "[encoded data removed]",
      "text/plain": [
       "<Figure size 640x480 with 1 Axes>"
      ]
     },
     "metadata": {},
     "output_type": "display_data"
    }
   ],
   "source": [
    "fig1, ax1 = plt.subplots()\n",
    "ax1.plot(history.history['loss'], label='Train')\n",
    "ax1.plot(history.history['val_loss'], label='Validation')\n",
    "ax1.set_xlabel('Epoch')        \n",
    "ax1.set_ylabel('Loss') \n",
    "ax1.set_title('Loss Curve')\n",
    "\n",
    "ax1.legend()\n",
    "\n",
    "fig2, ax2 = plt.subplots()\n",
    "ax2.scatter(y_test, y_pred, alpha=0.7, label='Predicted')\n",
    "ax2.plot([min(y_test), max(y_test)], [min(y_test), max(y_test)], color='red', linestyle='--', label='Perfect fit') \n",
    "ax2.set_title('Prediction vs True Distribution')\n",
    "ax2.legend()"
   ]
  },
  {
   "cell_type": "code",
   "execution_count": 34,
   "id": "72e6b577",
   "metadata": {},
   "outputs": [
    {
     "data": {
      "text/html": [
       "<pre style=\"white-space:pre;overflow-x:auto;line-height:normal;font-family:Menlo,'DejaVu Sans Mono',consolas,'Courier New',monospace\"></pre>\n"
      ],
      "text/plain": []
     },
     "metadata": {},
     "output_type": "display_data"
    },
    {
     "name": "stdout",
     "output_type": "stream",
     "text": [
      "Done\n"
     ]
    }
   ],
   "source": [
    "data= \"Augmented Data\"\n",
    "encoding_method= '1 Hot Encoding + PE'\n",
    "feature_engineering= \"With Feature Engineering\"\n",
    "run_id = 1\n",
    "model_type = \"BiLSTM + Attention\"\n",
    "hyperparameters = {\n",
    "    \"epochs\": 250,\n",
    "    \"batch_size\": 32,\n",
    "    \"learning_rate\": 1e-4\n",
    "}\n",
    "\n",
    "plots = {\n",
    "    \"Loss Curve\": fig1,\n",
    "    \"Predicted vs. True Distribution\": fig2\n",
    "}\n",
    "\n",
    "save_run(model_type, model, data, encoding_method, feature_engineering, run_id, hyperparameters, metrics, plots)"
   ]
  },
  {
   "cell_type": "code",
   "execution_count": 35,
   "id": "c662d7c6",
   "metadata": {},
   "outputs": [],
   "source": [
    "def mc_confidence(model, X_seq, X_num, n_iter=30):\n",
    "    predictions = []\n",
    "\n",
    "    for _ in range(n_iter):\n",
    "        prediction = model([X_seq, X_num], training=True).numpy()\n",
    "        predictions.append(prediction)\n",
    "\n",
    "    predictions = np.array(predictions)\n",
    "    mean = predictions.mean(axis=0)\n",
    "    std = predictions.std(axis=0)\n",
    "    return mean, std"
   ]
  },
  {
   "cell_type": "code",
   "execution_count": 36,
   "id": "892b48d5",
   "metadata": {},
   "outputs": [
    {
     "name": "stdout",
     "output_type": "stream",
     "text": [
      "Mean Prediction: [0.24904543 0.26543936 0.49583992 0.49357298 0.26789093 0.6185911\n",
      " 0.20738895 0.08730381 0.1491051  0.1511334 ]\n",
      "Confidence (± std): [0.02598875 0.04102352 0.04164743 0.04217329 0.03563225 0.03847526\n",
      " 0.03211015 0.01495664 0.02616301 0.01826583]\n"
     ]
    }
   ],
   "source": [
    "mean, std = mc_confidence(model, X_seq_test, X_num_test, n_iter=30)\n",
    "\n",
    "print(\"Mean Prediction:\", mean[:10].squeeze())\n",
    "print(\"Confidence (± std):\", std[:10].squeeze())"
   ]
  }
 ],
 "metadata": {
  "kernelspec": {
   "display_name": "Python 3",
   "language": "python",
   "name": "python3"
  },
  "language_info": {
   "codemirror_mode": {
    "name": "ipython",
    "version": 3
   },
   "file_extension": ".py",
   "mimetype": "text/x-python",
   "name": "python",
   "nbconvert_exporter": "python",
   "pygments_lexer": "ipython3",
   "version": "3.11.3"
  }
 },
 "nbformat": 4,
 "nbformat_minor": 5
}
